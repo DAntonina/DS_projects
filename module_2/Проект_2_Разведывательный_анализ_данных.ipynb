{
  "nbformat": 4,
  "nbformat_minor": 0,
  "metadata": {
    "colab": {
      "name": "Проект 2. Разведывательный анализ данных.ipynb",
      "provenance": [],
      "collapsed_sections": []
    },
    "kernelspec": {
      "name": "python3",
      "display_name": "Python 3"
    }
  },
  "cells": [
    {
      "cell_type": "code",
      "metadata": {
        "id": "EmviljIH01Hi"
      },
      "source": [
        "import pandas as pd\r\n",
        "import matplotlib.pyplot as plt\r\n",
        "import seaborn as sns\r\n",
        "from itertools import combinations\r\n",
        "from scipy.stats import ttest_ind\r\n",
        "%matplotlib inline\r\n",
        "\r\n",
        "pd.set_option('display.max_rows', 50) # показывать больше строк\r\n",
        "pd.set_option('display.max_columns', 50) # показывать больше колонок\r\n",
        "\r\n",
        "stud_math = pd.read_csv('stud_math.csv')"
      ],
      "execution_count": 2,
      "outputs": []
    },
    {
      "cell_type": "code",
      "metadata": {
        "colab": {
          "base_uri": "https://localhost:8080/",
          "height": 1000
        },
        "id": "2FViEysa1gj_",
        "outputId": "86838471-85bf-4a49-a120-09a1c693ccc8"
      },
      "source": [
        "display(stud_math.head(10))\r\n",
        "stud_math.info() "
      ],
      "execution_count": 3,
      "outputs": [
        {
          "output_type": "display_data",
          "data": {
            "text/html": [
              "<div>\n",
              "<style scoped>\n",
              "    .dataframe tbody tr th:only-of-type {\n",
              "        vertical-align: middle;\n",
              "    }\n",
              "\n",
              "    .dataframe tbody tr th {\n",
              "        vertical-align: top;\n",
              "    }\n",
              "\n",
              "    .dataframe thead th {\n",
              "        text-align: right;\n",
              "    }\n",
              "</style>\n",
              "<table border=\"1\" class=\"dataframe\">\n",
              "  <thead>\n",
              "    <tr style=\"text-align: right;\">\n",
              "      <th></th>\n",
              "      <th>school</th>\n",
              "      <th>sex</th>\n",
              "      <th>age</th>\n",
              "      <th>address</th>\n",
              "      <th>famsize</th>\n",
              "      <th>Pstatus</th>\n",
              "      <th>Medu</th>\n",
              "      <th>Fedu</th>\n",
              "      <th>Mjob</th>\n",
              "      <th>Fjob</th>\n",
              "      <th>reason</th>\n",
              "      <th>guardian</th>\n",
              "      <th>traveltime</th>\n",
              "      <th>studytime</th>\n",
              "      <th>failures</th>\n",
              "      <th>schoolsup</th>\n",
              "      <th>famsup</th>\n",
              "      <th>paid</th>\n",
              "      <th>activities</th>\n",
              "      <th>nursery</th>\n",
              "      <th>studytime, granular</th>\n",
              "      <th>higher</th>\n",
              "      <th>internet</th>\n",
              "      <th>romantic</th>\n",
              "      <th>famrel</th>\n",
              "      <th>freetime</th>\n",
              "      <th>goout</th>\n",
              "      <th>health</th>\n",
              "      <th>absences</th>\n",
              "      <th>score</th>\n",
              "    </tr>\n",
              "  </thead>\n",
              "  <tbody>\n",
              "    <tr>\n",
              "      <th>0</th>\n",
              "      <td>GP</td>\n",
              "      <td>F</td>\n",
              "      <td>18</td>\n",
              "      <td>U</td>\n",
              "      <td>NaN</td>\n",
              "      <td>A</td>\n",
              "      <td>4.0</td>\n",
              "      <td>4.0</td>\n",
              "      <td>at_home</td>\n",
              "      <td>teacher</td>\n",
              "      <td>course</td>\n",
              "      <td>mother</td>\n",
              "      <td>2.0</td>\n",
              "      <td>2.0</td>\n",
              "      <td>0.0</td>\n",
              "      <td>yes</td>\n",
              "      <td>no</td>\n",
              "      <td>no</td>\n",
              "      <td>no</td>\n",
              "      <td>yes</td>\n",
              "      <td>-6.0</td>\n",
              "      <td>yes</td>\n",
              "      <td>NaN</td>\n",
              "      <td>no</td>\n",
              "      <td>4.0</td>\n",
              "      <td>3.0</td>\n",
              "      <td>4.0</td>\n",
              "      <td>3.0</td>\n",
              "      <td>6.0</td>\n",
              "      <td>30.0</td>\n",
              "    </tr>\n",
              "    <tr>\n",
              "      <th>1</th>\n",
              "      <td>GP</td>\n",
              "      <td>F</td>\n",
              "      <td>17</td>\n",
              "      <td>U</td>\n",
              "      <td>GT3</td>\n",
              "      <td>NaN</td>\n",
              "      <td>1.0</td>\n",
              "      <td>1.0</td>\n",
              "      <td>at_home</td>\n",
              "      <td>other</td>\n",
              "      <td>course</td>\n",
              "      <td>father</td>\n",
              "      <td>1.0</td>\n",
              "      <td>2.0</td>\n",
              "      <td>0.0</td>\n",
              "      <td>no</td>\n",
              "      <td>yes</td>\n",
              "      <td>no</td>\n",
              "      <td>no</td>\n",
              "      <td>no</td>\n",
              "      <td>-6.0</td>\n",
              "      <td>yes</td>\n",
              "      <td>yes</td>\n",
              "      <td>no</td>\n",
              "      <td>5.0</td>\n",
              "      <td>3.0</td>\n",
              "      <td>3.0</td>\n",
              "      <td>3.0</td>\n",
              "      <td>4.0</td>\n",
              "      <td>30.0</td>\n",
              "    </tr>\n",
              "    <tr>\n",
              "      <th>2</th>\n",
              "      <td>GP</td>\n",
              "      <td>F</td>\n",
              "      <td>15</td>\n",
              "      <td>U</td>\n",
              "      <td>LE3</td>\n",
              "      <td>T</td>\n",
              "      <td>1.0</td>\n",
              "      <td>1.0</td>\n",
              "      <td>at_home</td>\n",
              "      <td>other</td>\n",
              "      <td>other</td>\n",
              "      <td>mother</td>\n",
              "      <td>1.0</td>\n",
              "      <td>2.0</td>\n",
              "      <td>3.0</td>\n",
              "      <td>yes</td>\n",
              "      <td>no</td>\n",
              "      <td>NaN</td>\n",
              "      <td>no</td>\n",
              "      <td>yes</td>\n",
              "      <td>-6.0</td>\n",
              "      <td>yes</td>\n",
              "      <td>yes</td>\n",
              "      <td>NaN</td>\n",
              "      <td>4.0</td>\n",
              "      <td>3.0</td>\n",
              "      <td>2.0</td>\n",
              "      <td>3.0</td>\n",
              "      <td>10.0</td>\n",
              "      <td>50.0</td>\n",
              "    </tr>\n",
              "    <tr>\n",
              "      <th>3</th>\n",
              "      <td>GP</td>\n",
              "      <td>F</td>\n",
              "      <td>15</td>\n",
              "      <td>U</td>\n",
              "      <td>GT3</td>\n",
              "      <td>T</td>\n",
              "      <td>4.0</td>\n",
              "      <td>2.0</td>\n",
              "      <td>health</td>\n",
              "      <td>NaN</td>\n",
              "      <td>home</td>\n",
              "      <td>mother</td>\n",
              "      <td>1.0</td>\n",
              "      <td>3.0</td>\n",
              "      <td>0.0</td>\n",
              "      <td>no</td>\n",
              "      <td>yes</td>\n",
              "      <td>yes</td>\n",
              "      <td>yes</td>\n",
              "      <td>yes</td>\n",
              "      <td>-9.0</td>\n",
              "      <td>yes</td>\n",
              "      <td>yes</td>\n",
              "      <td>yes</td>\n",
              "      <td>3.0</td>\n",
              "      <td>2.0</td>\n",
              "      <td>2.0</td>\n",
              "      <td>5.0</td>\n",
              "      <td>2.0</td>\n",
              "      <td>75.0</td>\n",
              "    </tr>\n",
              "    <tr>\n",
              "      <th>4</th>\n",
              "      <td>GP</td>\n",
              "      <td>F</td>\n",
              "      <td>16</td>\n",
              "      <td>U</td>\n",
              "      <td>GT3</td>\n",
              "      <td>T</td>\n",
              "      <td>3.0</td>\n",
              "      <td>3.0</td>\n",
              "      <td>other</td>\n",
              "      <td>other</td>\n",
              "      <td>home</td>\n",
              "      <td>father</td>\n",
              "      <td>1.0</td>\n",
              "      <td>2.0</td>\n",
              "      <td>0.0</td>\n",
              "      <td>no</td>\n",
              "      <td>yes</td>\n",
              "      <td>yes</td>\n",
              "      <td>no</td>\n",
              "      <td>yes</td>\n",
              "      <td>-6.0</td>\n",
              "      <td>yes</td>\n",
              "      <td>no</td>\n",
              "      <td>no</td>\n",
              "      <td>4.0</td>\n",
              "      <td>3.0</td>\n",
              "      <td>2.0</td>\n",
              "      <td>5.0</td>\n",
              "      <td>4.0</td>\n",
              "      <td>50.0</td>\n",
              "    </tr>\n",
              "    <tr>\n",
              "      <th>5</th>\n",
              "      <td>GP</td>\n",
              "      <td>M</td>\n",
              "      <td>16</td>\n",
              "      <td>U</td>\n",
              "      <td>LE3</td>\n",
              "      <td>T</td>\n",
              "      <td>4.0</td>\n",
              "      <td>3.0</td>\n",
              "      <td>services</td>\n",
              "      <td>other</td>\n",
              "      <td>reputation</td>\n",
              "      <td>mother</td>\n",
              "      <td>1.0</td>\n",
              "      <td>2.0</td>\n",
              "      <td>0.0</td>\n",
              "      <td>no</td>\n",
              "      <td>yes</td>\n",
              "      <td>yes</td>\n",
              "      <td>yes</td>\n",
              "      <td>yes</td>\n",
              "      <td>-6.0</td>\n",
              "      <td>yes</td>\n",
              "      <td>yes</td>\n",
              "      <td>no</td>\n",
              "      <td>5.0</td>\n",
              "      <td>4.0</td>\n",
              "      <td>2.0</td>\n",
              "      <td>5.0</td>\n",
              "      <td>10.0</td>\n",
              "      <td>75.0</td>\n",
              "    </tr>\n",
              "    <tr>\n",
              "      <th>6</th>\n",
              "      <td>GP</td>\n",
              "      <td>M</td>\n",
              "      <td>16</td>\n",
              "      <td>NaN</td>\n",
              "      <td>LE3</td>\n",
              "      <td>T</td>\n",
              "      <td>2.0</td>\n",
              "      <td>2.0</td>\n",
              "      <td>other</td>\n",
              "      <td>other</td>\n",
              "      <td>home</td>\n",
              "      <td>mother</td>\n",
              "      <td>1.0</td>\n",
              "      <td>2.0</td>\n",
              "      <td>0.0</td>\n",
              "      <td>no</td>\n",
              "      <td>no</td>\n",
              "      <td>no</td>\n",
              "      <td>no</td>\n",
              "      <td>yes</td>\n",
              "      <td>-6.0</td>\n",
              "      <td>yes</td>\n",
              "      <td>yes</td>\n",
              "      <td>no</td>\n",
              "      <td>4.0</td>\n",
              "      <td>4.0</td>\n",
              "      <td>4.0</td>\n",
              "      <td>3.0</td>\n",
              "      <td>0.0</td>\n",
              "      <td>55.0</td>\n",
              "    </tr>\n",
              "    <tr>\n",
              "      <th>7</th>\n",
              "      <td>GP</td>\n",
              "      <td>F</td>\n",
              "      <td>17</td>\n",
              "      <td>U</td>\n",
              "      <td>GT3</td>\n",
              "      <td>A</td>\n",
              "      <td>4.0</td>\n",
              "      <td>4.0</td>\n",
              "      <td>other</td>\n",
              "      <td>teacher</td>\n",
              "      <td>home</td>\n",
              "      <td>mother</td>\n",
              "      <td>2.0</td>\n",
              "      <td>2.0</td>\n",
              "      <td>0.0</td>\n",
              "      <td>yes</td>\n",
              "      <td>yes</td>\n",
              "      <td>no</td>\n",
              "      <td>no</td>\n",
              "      <td>yes</td>\n",
              "      <td>-6.0</td>\n",
              "      <td>yes</td>\n",
              "      <td>no</td>\n",
              "      <td>no</td>\n",
              "      <td>4.0</td>\n",
              "      <td>1.0</td>\n",
              "      <td>4.0</td>\n",
              "      <td>1.0</td>\n",
              "      <td>6.0</td>\n",
              "      <td>30.0</td>\n",
              "    </tr>\n",
              "    <tr>\n",
              "      <th>8</th>\n",
              "      <td>GP</td>\n",
              "      <td>M</td>\n",
              "      <td>15</td>\n",
              "      <td>U</td>\n",
              "      <td>LE3</td>\n",
              "      <td>A</td>\n",
              "      <td>3.0</td>\n",
              "      <td>2.0</td>\n",
              "      <td>services</td>\n",
              "      <td>other</td>\n",
              "      <td>home</td>\n",
              "      <td>mother</td>\n",
              "      <td>1.0</td>\n",
              "      <td>2.0</td>\n",
              "      <td>0.0</td>\n",
              "      <td>no</td>\n",
              "      <td>yes</td>\n",
              "      <td>yes</td>\n",
              "      <td>no</td>\n",
              "      <td>yes</td>\n",
              "      <td>-6.0</td>\n",
              "      <td>yes</td>\n",
              "      <td>yes</td>\n",
              "      <td>no</td>\n",
              "      <td>NaN</td>\n",
              "      <td>2.0</td>\n",
              "      <td>2.0</td>\n",
              "      <td>1.0</td>\n",
              "      <td>0.0</td>\n",
              "      <td>95.0</td>\n",
              "    </tr>\n",
              "    <tr>\n",
              "      <th>9</th>\n",
              "      <td>GP</td>\n",
              "      <td>M</td>\n",
              "      <td>15</td>\n",
              "      <td>U</td>\n",
              "      <td>NaN</td>\n",
              "      <td>NaN</td>\n",
              "      <td>3.0</td>\n",
              "      <td>4.0</td>\n",
              "      <td>other</td>\n",
              "      <td>other</td>\n",
              "      <td>home</td>\n",
              "      <td>mother</td>\n",
              "      <td>1.0</td>\n",
              "      <td>2.0</td>\n",
              "      <td>0.0</td>\n",
              "      <td>no</td>\n",
              "      <td>yes</td>\n",
              "      <td>yes</td>\n",
              "      <td>yes</td>\n",
              "      <td>yes</td>\n",
              "      <td>-6.0</td>\n",
              "      <td>yes</td>\n",
              "      <td>yes</td>\n",
              "      <td>no</td>\n",
              "      <td>5.0</td>\n",
              "      <td>5.0</td>\n",
              "      <td>1.0</td>\n",
              "      <td>5.0</td>\n",
              "      <td>0.0</td>\n",
              "      <td>75.0</td>\n",
              "    </tr>\n",
              "  </tbody>\n",
              "</table>\n",
              "</div>"
            ],
            "text/plain": [
              "  school sex  age address famsize Pstatus  Medu  Fedu      Mjob     Fjob  \\\n",
              "0     GP   F   18       U     NaN       A   4.0   4.0   at_home  teacher   \n",
              "1     GP   F   17       U     GT3     NaN   1.0   1.0   at_home    other   \n",
              "2     GP   F   15       U     LE3       T   1.0   1.0   at_home    other   \n",
              "3     GP   F   15       U     GT3       T   4.0   2.0    health      NaN   \n",
              "4     GP   F   16       U     GT3       T   3.0   3.0     other    other   \n",
              "5     GP   M   16       U     LE3       T   4.0   3.0  services    other   \n",
              "6     GP   M   16     NaN     LE3       T   2.0   2.0     other    other   \n",
              "7     GP   F   17       U     GT3       A   4.0   4.0     other  teacher   \n",
              "8     GP   M   15       U     LE3       A   3.0   2.0  services    other   \n",
              "9     GP   M   15       U     NaN     NaN   3.0   4.0     other    other   \n",
              "\n",
              "       reason guardian  traveltime  studytime  failures schoolsup famsup paid  \\\n",
              "0      course   mother         2.0        2.0       0.0       yes     no   no   \n",
              "1      course   father         1.0        2.0       0.0        no    yes   no   \n",
              "2       other   mother         1.0        2.0       3.0       yes     no  NaN   \n",
              "3        home   mother         1.0        3.0       0.0        no    yes  yes   \n",
              "4        home   father         1.0        2.0       0.0        no    yes  yes   \n",
              "5  reputation   mother         1.0        2.0       0.0        no    yes  yes   \n",
              "6        home   mother         1.0        2.0       0.0        no     no   no   \n",
              "7        home   mother         2.0        2.0       0.0       yes    yes   no   \n",
              "8        home   mother         1.0        2.0       0.0        no    yes  yes   \n",
              "9        home   mother         1.0        2.0       0.0        no    yes  yes   \n",
              "\n",
              "  activities nursery  studytime, granular higher internet romantic  famrel  \\\n",
              "0         no     yes                 -6.0    yes      NaN       no     4.0   \n",
              "1         no      no                 -6.0    yes      yes       no     5.0   \n",
              "2         no     yes                 -6.0    yes      yes      NaN     4.0   \n",
              "3        yes     yes                 -9.0    yes      yes      yes     3.0   \n",
              "4         no     yes                 -6.0    yes       no       no     4.0   \n",
              "5        yes     yes                 -6.0    yes      yes       no     5.0   \n",
              "6         no     yes                 -6.0    yes      yes       no     4.0   \n",
              "7         no     yes                 -6.0    yes       no       no     4.0   \n",
              "8         no     yes                 -6.0    yes      yes       no     NaN   \n",
              "9        yes     yes                 -6.0    yes      yes       no     5.0   \n",
              "\n",
              "   freetime  goout  health  absences  score  \n",
              "0       3.0    4.0     3.0       6.0   30.0  \n",
              "1       3.0    3.0     3.0       4.0   30.0  \n",
              "2       3.0    2.0     3.0      10.0   50.0  \n",
              "3       2.0    2.0     5.0       2.0   75.0  \n",
              "4       3.0    2.0     5.0       4.0   50.0  \n",
              "5       4.0    2.0     5.0      10.0   75.0  \n",
              "6       4.0    4.0     3.0       0.0   55.0  \n",
              "7       1.0    4.0     1.0       6.0   30.0  \n",
              "8       2.0    2.0     1.0       0.0   95.0  \n",
              "9       5.0    1.0     5.0       0.0   75.0  "
            ]
          },
          "metadata": {
            "tags": []
          }
        },
        {
          "output_type": "stream",
          "text": [
            "<class 'pandas.core.frame.DataFrame'>\n",
            "RangeIndex: 395 entries, 0 to 394\n",
            "Data columns (total 30 columns):\n",
            " #   Column               Non-Null Count  Dtype  \n",
            "---  ------               --------------  -----  \n",
            " 0   school               395 non-null    object \n",
            " 1   sex                  395 non-null    object \n",
            " 2   age                  395 non-null    int64  \n",
            " 3   address              378 non-null    object \n",
            " 4   famsize              368 non-null    object \n",
            " 5   Pstatus              350 non-null    object \n",
            " 6   Medu                 392 non-null    float64\n",
            " 7   Fedu                 371 non-null    float64\n",
            " 8   Mjob                 376 non-null    object \n",
            " 9   Fjob                 359 non-null    object \n",
            " 10  reason               378 non-null    object \n",
            " 11  guardian             364 non-null    object \n",
            " 12  traveltime           367 non-null    float64\n",
            " 13  studytime            388 non-null    float64\n",
            " 14  failures             373 non-null    float64\n",
            " 15  schoolsup            386 non-null    object \n",
            " 16  famsup               356 non-null    object \n",
            " 17  paid                 355 non-null    object \n",
            " 18  activities           381 non-null    object \n",
            " 19  nursery              379 non-null    object \n",
            " 20  studytime, granular  388 non-null    float64\n",
            " 21  higher               375 non-null    object \n",
            " 22  internet             361 non-null    object \n",
            " 23  romantic             364 non-null    object \n",
            " 24  famrel               368 non-null    float64\n",
            " 25  freetime             384 non-null    float64\n",
            " 26  goout                387 non-null    float64\n",
            " 27  health               380 non-null    float64\n",
            " 28  absences             383 non-null    float64\n",
            " 29  score                389 non-null    float64\n",
            "dtypes: float64(12), int64(1), object(17)\n",
            "memory usage: 92.7+ KB\n"
          ],
          "name": "stdout"
        }
      ]
    },
    {
      "cell_type": "code",
      "metadata": {
        "colab": {
          "base_uri": "https://localhost:8080/"
        },
        "id": "M-cCxwjAJhVg",
        "outputId": "cf52067d-3a9d-45d4-d118-1ba96d2cb587"
      },
      "source": [
        "stud_math['studytime, granular']"
      ],
      "execution_count": 4,
      "outputs": [
        {
          "output_type": "execute_result",
          "data": {
            "text/plain": [
              "0     -6.0\n",
              "1     -6.0\n",
              "2     -6.0\n",
              "3     -9.0\n",
              "4     -6.0\n",
              "      ... \n",
              "390   -6.0\n",
              "391   -3.0\n",
              "392   -3.0\n",
              "393   -3.0\n",
              "394   -3.0\n",
              "Name: studytime, granular, Length: 395, dtype: float64"
            ]
          },
          "metadata": {
            "tags": []
          },
          "execution_count": 4
        }
      ]
    },
    {
      "cell_type": "code",
      "metadata": {
        "colab": {
          "base_uri": "https://localhost:8080/"
        },
        "id": "bTi-FjYZJ31t",
        "outputId": "2ed11ca5-687b-4a47-93db-cf2745a38fc0"
      },
      "source": [
        "stud_math['studytime, granular'].nunique()"
      ],
      "execution_count": 18,
      "outputs": [
        {
          "output_type": "execute_result",
          "data": {
            "text/plain": [
              "4"
            ]
          },
          "metadata": {
            "tags": []
          },
          "execution_count": 18
        }
      ]
    },
    {
      "cell_type": "code",
      "metadata": {
        "colab": {
          "base_uri": "https://localhost:8080/",
          "height": 250
        },
        "id": "uXyZkIWeevY6",
        "outputId": "f1599297-668e-4449-90ef-be2b97bd3acb"
      },
      "source": [
        "display(pd.DataFrame(stud_math.address.value_counts()))\r\n",
        "stud_math.loc[:, ['address']].info()"
      ],
      "execution_count": 6,
      "outputs": [
        {
          "output_type": "display_data",
          "data": {
            "text/html": [
              "<div>\n",
              "<style scoped>\n",
              "    .dataframe tbody tr th:only-of-type {\n",
              "        vertical-align: middle;\n",
              "    }\n",
              "\n",
              "    .dataframe tbody tr th {\n",
              "        vertical-align: top;\n",
              "    }\n",
              "\n",
              "    .dataframe thead th {\n",
              "        text-align: right;\n",
              "    }\n",
              "</style>\n",
              "<table border=\"1\" class=\"dataframe\">\n",
              "  <thead>\n",
              "    <tr style=\"text-align: right;\">\n",
              "      <th></th>\n",
              "      <th>address</th>\n",
              "    </tr>\n",
              "  </thead>\n",
              "  <tbody>\n",
              "    <tr>\n",
              "      <th>U</th>\n",
              "      <td>295</td>\n",
              "    </tr>\n",
              "    <tr>\n",
              "      <th>R</th>\n",
              "      <td>83</td>\n",
              "    </tr>\n",
              "  </tbody>\n",
              "</table>\n",
              "</div>"
            ],
            "text/plain": [
              "   address\n",
              "U      295\n",
              "R       83"
            ]
          },
          "metadata": {
            "tags": []
          }
        },
        {
          "output_type": "stream",
          "text": [
            "<class 'pandas.core.frame.DataFrame'>\n",
            "RangeIndex: 395 entries, 0 to 394\n",
            "Data columns (total 1 columns):\n",
            " #   Column   Non-Null Count  Dtype \n",
            "---  ------   --------------  ----- \n",
            " 0   address  378 non-null    object\n",
            "dtypes: object(1)\n",
            "memory usage: 3.2+ KB\n"
          ],
          "name": "stdout"
        }
      ]
    },
    {
      "cell_type": "code",
      "metadata": {
        "colab": {
          "base_uri": "https://localhost:8080/",
          "height": 424
        },
        "id": "HaqvEfXC0Ht8",
        "outputId": "b9f3a248-3c59-4cf7-ea6b-1033c970f842"
      },
      "source": [
        "stud_math.age.hist()\r\n",
        "stud_math.age.describe()"
      ],
      "execution_count": 7,
      "outputs": [
        {
          "output_type": "execute_result",
          "data": {
            "text/plain": [
              "count    395.000000\n",
              "mean      16.696203\n",
              "std        1.276043\n",
              "min       15.000000\n",
              "25%       16.000000\n",
              "50%       17.000000\n",
              "75%       18.000000\n",
              "max       22.000000\n",
              "Name: age, dtype: float64"
            ]
          },
          "metadata": {
            "tags": []
          },
          "execution_count": 7
        },
        {
          "output_type": "display_data",
          "data": {
            "image/png": "[encoded data removed]",
            "text/plain": [
              "<Figure size 432x288 with 1 Axes>"
            ]
          },
          "metadata": {
            "tags": [],
            "needs_background": "light"
          }
        }
      ]
    },
    {
      "cell_type": "code",
      "metadata": {
        "colab": {
          "base_uri": "https://localhost:8080/",
          "height": 424
        },
        "id": "ZXpIFqUN10Nb",
        "outputId": "6ae6c44d-fd74-45af-8a06-339b2167318d"
      },
      "source": [
        "stud_math.Medu.hist()\r\n",
        "stud_math.Medu.describe()"
      ],
      "execution_count": 8,
      "outputs": [
        {
          "output_type": "execute_result",
          "data": {
            "text/plain": [
              "count    392.000000\n",
              "mean       2.750000\n",
              "std        1.098127\n",
              "min        0.000000\n",
              "25%        2.000000\n",
              "50%        3.000000\n",
              "75%        4.000000\n",
              "max        4.000000\n",
              "Name: Medu, dtype: float64"
            ]
          },
          "metadata": {
            "tags": []
          },
          "execution_count": 8
        },
        {
          "output_type": "display_data",
          "data": {
            "image/png": "[encoded data removed]",
            "text/plain": [
              "<Figure size 432x288 with 1 Axes>"
            ]
          },
          "metadata": {
            "tags": [],
            "needs_background": "light"
          }
        }
      ]
    },
    {
      "cell_type": "code",
      "metadata": {
        "colab": {
          "base_uri": "https://localhost:8080/"
        },
        "id": "qhdaxgLG2fRW",
        "outputId": "264a6fea-756a-421e-ec08-be360326ec7f"
      },
      "source": [
        "stud_math.Fjob.unique()"
      ],
      "execution_count": 9,
      "outputs": [
        {
          "output_type": "execute_result",
          "data": {
            "text/plain": [
              "array(['teacher', 'other', nan, 'health', 'services', 'at_home'],\n",
              "      dtype=object)"
            ]
          },
          "metadata": {
            "tags": []
          },
          "execution_count": 9
        }
      ]
    },
    {
      "cell_type": "code",
      "metadata": {
        "colab": {
          "base_uri": "https://localhost:8080/",
          "height": 340
        },
        "id": "Vd8l7eYS2CLN",
        "outputId": "c3105473-e67b-47bd-e3eb-7969822d4732"
      },
      "source": [
        "display(pd.DataFrame(stud_math.Fjob.value_counts()))\r\n",
        "stud_math.loc[:, ['Fjob']].info()"
      ],
      "execution_count": 10,
      "outputs": [
        {
          "output_type": "display_data",
          "data": {
            "text/html": [
              "<div>\n",
              "<style scoped>\n",
              "    .dataframe tbody tr th:only-of-type {\n",
              "        vertical-align: middle;\n",
              "    }\n",
              "\n",
              "    .dataframe tbody tr th {\n",
              "        vertical-align: top;\n",
              "    }\n",
              "\n",
              "    .dataframe thead th {\n",
              "        text-align: right;\n",
              "    }\n",
              "</style>\n",
              "<table border=\"1\" class=\"dataframe\">\n",
              "  <thead>\n",
              "    <tr style=\"text-align: right;\">\n",
              "      <th></th>\n",
              "      <th>Fjob</th>\n",
              "    </tr>\n",
              "  </thead>\n",
              "  <tbody>\n",
              "    <tr>\n",
              "      <th>other</th>\n",
              "      <td>197</td>\n",
              "    </tr>\n",
              "    <tr>\n",
              "      <th>services</th>\n",
              "      <td>102</td>\n",
              "    </tr>\n",
              "    <tr>\n",
              "      <th>teacher</th>\n",
              "      <td>29</td>\n",
              "    </tr>\n",
              "    <tr>\n",
              "      <th>at_home</th>\n",
              "      <td>16</td>\n",
              "    </tr>\n",
              "    <tr>\n",
              "      <th>health</th>\n",
              "      <td>15</td>\n",
              "    </tr>\n",
              "  </tbody>\n",
              "</table>\n",
              "</div>"
            ],
            "text/plain": [
              "          Fjob\n",
              "other      197\n",
              "services   102\n",
              "teacher     29\n",
              "at_home     16\n",
              "health      15"
            ]
          },
          "metadata": {
            "tags": []
          }
        },
        {
          "output_type": "stream",
          "text": [
            "<class 'pandas.core.frame.DataFrame'>\n",
            "RangeIndex: 395 entries, 0 to 394\n",
            "Data columns (total 1 columns):\n",
            " #   Column  Non-Null Count  Dtype \n",
            "---  ------  --------------  ----- \n",
            " 0   Fjob    359 non-null    object\n",
            "dtypes: object(1)\n",
            "memory usage: 3.2+ KB\n"
          ],
          "name": "stdout"
        }
      ]
    },
    {
      "cell_type": "markdown",
      "metadata": {
        "id": "91Y5Xx7BMEnF"
      },
      "source": [
        "Посмотрим какие столбцы коррелируют с баллами по госэкзамену по математике. Решим какие переменные оставим, а какие исключим."
      ]
    },
    {
      "cell_type": "code",
      "metadata": {
        "colab": {
          "base_uri": "https://localhost:8080/",
          "height": 437
        },
        "id": "a6yHJQHq3zcx",
        "outputId": "db0cea9d-84ec-4ddc-faa6-34a49a61b57e"
      },
      "source": [
        "stud_math.corr()"
      ],
      "execution_count": 11,
      "outputs": [
        {
          "output_type": "execute_result",
          "data": {
            "text/html": [
              "<div>\n",
              "<style scoped>\n",
              "    .dataframe tbody tr th:only-of-type {\n",
              "        vertical-align: middle;\n",
              "    }\n",
              "\n",
              "    .dataframe tbody tr th {\n",
              "        vertical-align: top;\n",
              "    }\n",
              "\n",
              "    .dataframe thead th {\n",
              "        text-align: right;\n",
              "    }\n",
              "</style>\n",
              "<table border=\"1\" class=\"dataframe\">\n",
              "  <thead>\n",
              "    <tr style=\"text-align: right;\">\n",
              "      <th></th>\n",
              "      <th>age</th>\n",
              "      <th>Medu</th>\n",
              "      <th>Fedu</th>\n",
              "      <th>traveltime</th>\n",
              "      <th>studytime</th>\n",
              "      <th>failures</th>\n",
              "      <th>studytime, granular</th>\n",
              "      <th>famrel</th>\n",
              "      <th>freetime</th>\n",
              "      <th>goout</th>\n",
              "      <th>health</th>\n",
              "      <th>absences</th>\n",
              "      <th>score</th>\n",
              "    </tr>\n",
              "  </thead>\n",
              "  <tbody>\n",
              "    <tr>\n",
              "      <th>age</th>\n",
              "      <td>1.000000</td>\n",
              "      <td>-0.161704</td>\n",
              "      <td>-0.138018</td>\n",
              "      <td>0.081508</td>\n",
              "      <td>-0.015556</td>\n",
              "      <td>0.228047</td>\n",
              "      <td>0.015556</td>\n",
              "      <td>0.068899</td>\n",
              "      <td>0.029023</td>\n",
              "      <td>0.135107</td>\n",
              "      <td>-0.065946</td>\n",
              "      <td>0.093592</td>\n",
              "      <td>-0.155726</td>\n",
              "    </tr>\n",
              "    <tr>\n",
              "      <th>Medu</th>\n",
              "      <td>-0.161704</td>\n",
              "      <td>1.000000</td>\n",
              "      <td>0.275598</td>\n",
              "      <td>-0.173515</td>\n",
              "      <td>0.078589</td>\n",
              "      <td>-0.245463</td>\n",
              "      <td>-0.078589</td>\n",
              "      <td>-0.010050</td>\n",
              "      <td>0.025335</td>\n",
              "      <td>0.064164</td>\n",
              "      <td>-0.045051</td>\n",
              "      <td>-0.011944</td>\n",
              "      <td>0.213349</td>\n",
              "    </tr>\n",
              "    <tr>\n",
              "      <th>Fedu</th>\n",
              "      <td>-0.138018</td>\n",
              "      <td>0.275598</td>\n",
              "      <td>1.000000</td>\n",
              "      <td>0.030646</td>\n",
              "      <td>0.057199</td>\n",
              "      <td>-0.150821</td>\n",
              "      <td>-0.057199</td>\n",
              "      <td>0.040577</td>\n",
              "      <td>-0.066556</td>\n",
              "      <td>-0.023282</td>\n",
              "      <td>0.027251</td>\n",
              "      <td>0.004695</td>\n",
              "      <td>0.078573</td>\n",
              "    </tr>\n",
              "    <tr>\n",
              "      <th>traveltime</th>\n",
              "      <td>0.081508</td>\n",
              "      <td>-0.173515</td>\n",
              "      <td>0.030646</td>\n",
              "      <td>1.000000</td>\n",
              "      <td>-0.102206</td>\n",
              "      <td>0.064699</td>\n",
              "      <td>0.102206</td>\n",
              "      <td>-0.016857</td>\n",
              "      <td>-0.021937</td>\n",
              "      <td>0.037636</td>\n",
              "      <td>-0.021531</td>\n",
              "      <td>-0.048215</td>\n",
              "      <td>-0.070559</td>\n",
              "    </tr>\n",
              "    <tr>\n",
              "      <th>studytime</th>\n",
              "      <td>-0.015556</td>\n",
              "      <td>0.078589</td>\n",
              "      <td>0.057199</td>\n",
              "      <td>-0.102206</td>\n",
              "      <td>1.000000</td>\n",
              "      <td>-0.178992</td>\n",
              "      <td>-1.000000</td>\n",
              "      <td>0.045894</td>\n",
              "      <td>-0.121969</td>\n",
              "      <td>-0.051280</td>\n",
              "      <td>-0.080016</td>\n",
              "      <td>-0.026544</td>\n",
              "      <td>0.115741</td>\n",
              "    </tr>\n",
              "    <tr>\n",
              "      <th>failures</th>\n",
              "      <td>0.228047</td>\n",
              "      <td>-0.245463</td>\n",
              "      <td>-0.150821</td>\n",
              "      <td>0.064699</td>\n",
              "      <td>-0.178992</td>\n",
              "      <td>1.000000</td>\n",
              "      <td>0.178992</td>\n",
              "      <td>-0.022655</td>\n",
              "      <td>0.098382</td>\n",
              "      <td>0.120914</td>\n",
              "      <td>0.081284</td>\n",
              "      <td>0.057391</td>\n",
              "      <td>-0.344338</td>\n",
              "    </tr>\n",
              "    <tr>\n",
              "      <th>studytime, granular</th>\n",
              "      <td>0.015556</td>\n",
              "      <td>-0.078589</td>\n",
              "      <td>-0.057199</td>\n",
              "      <td>0.102206</td>\n",
              "      <td>-1.000000</td>\n",
              "      <td>0.178992</td>\n",
              "      <td>1.000000</td>\n",
              "      <td>-0.045894</td>\n",
              "      <td>0.121969</td>\n",
              "      <td>0.051280</td>\n",
              "      <td>0.080016</td>\n",
              "      <td>0.026544</td>\n",
              "      <td>-0.115741</td>\n",
              "    </tr>\n",
              "    <tr>\n",
              "      <th>famrel</th>\n",
              "      <td>0.068899</td>\n",
              "      <td>-0.010050</td>\n",
              "      <td>0.040577</td>\n",
              "      <td>-0.016857</td>\n",
              "      <td>0.045894</td>\n",
              "      <td>-0.022655</td>\n",
              "      <td>-0.045894</td>\n",
              "      <td>1.000000</td>\n",
              "      <td>0.175743</td>\n",
              "      <td>0.081154</td>\n",
              "      <td>0.077474</td>\n",
              "      <td>-0.082609</td>\n",
              "      <td>0.057112</td>\n",
              "    </tr>\n",
              "    <tr>\n",
              "      <th>freetime</th>\n",
              "      <td>0.029023</td>\n",
              "      <td>0.025335</td>\n",
              "      <td>-0.066556</td>\n",
              "      <td>-0.021937</td>\n",
              "      <td>-0.121969</td>\n",
              "      <td>0.098382</td>\n",
              "      <td>0.121969</td>\n",
              "      <td>0.175743</td>\n",
              "      <td>1.000000</td>\n",
              "      <td>0.296437</td>\n",
              "      <td>0.061575</td>\n",
              "      <td>0.009292</td>\n",
              "      <td>0.019026</td>\n",
              "    </tr>\n",
              "    <tr>\n",
              "      <th>goout</th>\n",
              "      <td>0.135107</td>\n",
              "      <td>0.064164</td>\n",
              "      <td>-0.023282</td>\n",
              "      <td>0.037636</td>\n",
              "      <td>-0.051280</td>\n",
              "      <td>0.120914</td>\n",
              "      <td>0.051280</td>\n",
              "      <td>0.081154</td>\n",
              "      <td>0.296437</td>\n",
              "      <td>1.000000</td>\n",
              "      <td>-0.015608</td>\n",
              "      <td>-0.048738</td>\n",
              "      <td>-0.129685</td>\n",
              "    </tr>\n",
              "    <tr>\n",
              "      <th>health</th>\n",
              "      <td>-0.065946</td>\n",
              "      <td>-0.045051</td>\n",
              "      <td>0.027251</td>\n",
              "      <td>-0.021531</td>\n",
              "      <td>-0.080016</td>\n",
              "      <td>0.081284</td>\n",
              "      <td>0.080016</td>\n",
              "      <td>0.077474</td>\n",
              "      <td>0.061575</td>\n",
              "      <td>-0.015608</td>\n",
              "      <td>1.000000</td>\n",
              "      <td>-0.016222</td>\n",
              "      <td>-0.070460</td>\n",
              "    </tr>\n",
              "    <tr>\n",
              "      <th>absences</th>\n",
              "      <td>0.093592</td>\n",
              "      <td>-0.011944</td>\n",
              "      <td>0.004695</td>\n",
              "      <td>-0.048215</td>\n",
              "      <td>-0.026544</td>\n",
              "      <td>0.057391</td>\n",
              "      <td>0.026544</td>\n",
              "      <td>-0.082609</td>\n",
              "      <td>0.009292</td>\n",
              "      <td>-0.048738</td>\n",
              "      <td>-0.016222</td>\n",
              "      <td>1.000000</td>\n",
              "      <td>0.065283</td>\n",
              "    </tr>\n",
              "    <tr>\n",
              "      <th>score</th>\n",
              "      <td>-0.155726</td>\n",
              "      <td>0.213349</td>\n",
              "      <td>0.078573</td>\n",
              "      <td>-0.070559</td>\n",
              "      <td>0.115741</td>\n",
              "      <td>-0.344338</td>\n",
              "      <td>-0.115741</td>\n",
              "      <td>0.057112</td>\n",
              "      <td>0.019026</td>\n",
              "      <td>-0.129685</td>\n",
              "      <td>-0.070460</td>\n",
              "      <td>0.065283</td>\n",
              "      <td>1.000000</td>\n",
              "    </tr>\n",
              "  </tbody>\n",
              "</table>\n",
              "</div>"
            ],
            "text/plain": [
              "                          age      Medu      Fedu  traveltime  studytime  \\\n",
              "age                  1.000000 -0.161704 -0.138018    0.081508  -0.015556   \n",
              "Medu                -0.161704  1.000000  0.275598   -0.173515   0.078589   \n",
              "Fedu                -0.138018  0.275598  1.000000    0.030646   0.057199   \n",
              "traveltime           0.081508 -0.173515  0.030646    1.000000  -0.102206   \n",
              "studytime           -0.015556  0.078589  0.057199   -0.102206   1.000000   \n",
              "failures             0.228047 -0.245463 -0.150821    0.064699  -0.178992   \n",
              "studytime, granular  0.015556 -0.078589 -0.057199    0.102206  -1.000000   \n",
              "famrel               0.068899 -0.010050  0.040577   -0.016857   0.045894   \n",
              "freetime             0.029023  0.025335 -0.066556   -0.021937  -0.121969   \n",
              "goout                0.135107  0.064164 -0.023282    0.037636  -0.051280   \n",
              "health              -0.065946 -0.045051  0.027251   -0.021531  -0.080016   \n",
              "absences             0.093592 -0.011944  0.004695   -0.048215  -0.026544   \n",
              "score               -0.155726  0.213349  0.078573   -0.070559   0.115741   \n",
              "\n",
              "                     failures  studytime, granular    famrel  freetime  \\\n",
              "age                  0.228047             0.015556  0.068899  0.029023   \n",
              "Medu                -0.245463            -0.078589 -0.010050  0.025335   \n",
              "Fedu                -0.150821            -0.057199  0.040577 -0.066556   \n",
              "traveltime           0.064699             0.102206 -0.016857 -0.021937   \n",
              "studytime           -0.178992            -1.000000  0.045894 -0.121969   \n",
              "failures             1.000000             0.178992 -0.022655  0.098382   \n",
              "studytime, granular  0.178992             1.000000 -0.045894  0.121969   \n",
              "famrel              -0.022655            -0.045894  1.000000  0.175743   \n",
              "freetime             0.098382             0.121969  0.175743  1.000000   \n",
              "goout                0.120914             0.051280  0.081154  0.296437   \n",
              "health               0.081284             0.080016  0.077474  0.061575   \n",
              "absences             0.057391             0.026544 -0.082609  0.009292   \n",
              "score               -0.344338            -0.115741  0.057112  0.019026   \n",
              "\n",
              "                        goout    health  absences     score  \n",
              "age                  0.135107 -0.065946  0.093592 -0.155726  \n",
              "Medu                 0.064164 -0.045051 -0.011944  0.213349  \n",
              "Fedu                -0.023282  0.027251  0.004695  0.078573  \n",
              "traveltime           0.037636 -0.021531 -0.048215 -0.070559  \n",
              "studytime           -0.051280 -0.080016 -0.026544  0.115741  \n",
              "failures             0.120914  0.081284  0.057391 -0.344338  \n",
              "studytime, granular  0.051280  0.080016  0.026544 -0.115741  \n",
              "famrel               0.081154  0.077474 -0.082609  0.057112  \n",
              "freetime             0.296437  0.061575  0.009292  0.019026  \n",
              "goout                1.000000 -0.015608 -0.048738 -0.129685  \n",
              "health              -0.015608  1.000000 -0.016222 -0.070460  \n",
              "absences            -0.048738 -0.016222  1.000000  0.065283  \n",
              "score               -0.129685 -0.070460  0.065283  1.000000  "
            ]
          },
          "metadata": {
            "tags": []
          },
          "execution_count": 11
        }
      ]
    },
    {
      "cell_type": "code",
      "metadata": {
        "colab": {
          "base_uri": "https://localhost:8080/",
          "height": 375
        },
        "id": "b6k9ifa0Fkbl",
        "outputId": "d5876256-bceb-4fe9-e411-d8c1256a95a7"
      },
      "source": [
        "sns.heatmap(stud_math.corr())\r\n",
        "fig = plt.gcf\r\n",
        "fig"
      ],
      "execution_count": 12,
      "outputs": [
        {
          "output_type": "execute_result",
          "data": {
            "text/plain": [
              "<function matplotlib.pyplot.gcf>"
            ]
          },
          "metadata": {
            "tags": []
          },
          "execution_count": 12
        },
        {
          "output_type": "display_data",
          "data": {
            "image/png": "[encoded data removed]",
            "text/plain": [
              "<Figure size 432x288 with 2 Axes>"
            ]
          },
          "metadata": {
            "tags": [],
            "needs_background": "light"
          }
        }
      ]
    },
    {
      "cell_type": "code",
      "metadata": {
        "colab": {
          "base_uri": "https://localhost:8080/",
          "height": 282
        },
        "id": "FiEFCMI6AI1K",
        "outputId": "956dd8f5-531a-4475-956d-1e059ce37bb1"
      },
      "source": [
        "stud_math['studytime'].plot(kind = 'hist', grid = True,)"
      ],
      "execution_count": 13,
      "outputs": [
        {
          "output_type": "execute_result",
          "data": {
            "text/plain": [
              "<matplotlib.axes._subplots.AxesSubplot at 0x7f6c06eae5f8>"
            ]
          },
          "metadata": {
            "tags": []
          },
          "execution_count": 13
        },
        {
          "output_type": "display_data",
          "data": {
            "image/png": "[encoded data removed]",
            "text/plain": [
              "<Figure size 432x288 with 1 Axes>"
            ]
          },
          "metadata": {
            "tags": [],
            "needs_background": "light"
          }
        }
      ]
    },
    {
      "cell_type": "code",
      "metadata": {
        "id": "Iq-dQkxWGkVM"
      },
      "source": [
        "def boxplot(column):\r\n",
        "    fig, ax = plt.subplots(figsize = (14, 4))\r\n",
        "    sns.boxplot(x=column, y='score', \r\n",
        "                data=stud_math.loc[stud_math.loc[:, column].isin(stud_math.loc[:, column].value_counts().index[:5])],\r\n",
        "               ax=ax)\r\n",
        "    plt.xticks(rotation=45)\r\n",
        "    ax.set_title('Boxplot for ' + column)\r\n",
        "    plt.show()"
      ],
      "execution_count": 14,
      "outputs": []
    },
    {
      "cell_type": "markdown",
      "metadata": {
        "id": "K864VW6u6CdL"
      },
      "source": [
        "Проверим имеются ли различия в баллах по госэкзамену по математике в зависимости от значения номинативных переменных."
      ]
    },
    {
      "cell_type": "code",
      "metadata": {
        "colab": {
          "base_uri": "https://localhost:8080/",
          "height": 1000
        },
        "id": "8772OAfUsxZv",
        "outputId": "f8bc5bbf-a8d7-4c71-f0d8-ec65a4539f50"
      },
      "source": [
        "for column in ['school', 'sex', 'address', 'famsize','Pstatus', 'Mjob', 'Fjob', 'reason', 'guardian', 'schoolsup', 'famsup', \r\n",
        "               'paid', 'activities', 'nursery', 'higher', 'internet', 'romantic']:\r\n",
        "    boxplot(column)"
      ],
      "execution_count": 20,
      "outputs": [
        {
          "output_type": "display_data",
          "data": {
            "image/png": "[encoded data removed]",
            "text/plain": [
              "<Figure size 1008x288 with 1 Axes>"
            ]
          },
          "metadata": {
            "tags": [],
            "needs_background": "light"
          }
        },
        {
          "output_type": "display_data",
          "data": {
            "image/png": "[encoded data removed]",
            "text/plain": [
              "<Figure size 1008x288 with 1 Axes>"
            ]
          },
          "metadata": {
            "tags": [],
            "needs_background": "light"
          }
        },
        {
          "output_type": "display_data",
          "data": {
            "image/png": "[encoded data removed]",
            "text/plain": [
              "<Figure size 1008x288 with 1 Axes>"
            ]
          },
          "metadata": {
            "tags": [],
            "needs_background": "light"
          }
        },
        {
          "output_type": "display_data",
          "data": {
            "image/png": "[encoded data removed]",
            "text/plain": [
              "<Figure size 1008x288 with 1 Axes>"
            ]
          },
          "metadata": {
            "tags": [],
            "needs_background": "light"
          }
        },
        {
          "output_type": "display_data",
          "data": {
            "image/png": "[encoded data removed]",
            "text/plain": [
              "<Figure size 1008x288 with 1 Axes>"
            ]
          },
          "metadata": {
            "tags": [],
            "needs_background": "light"
          }
        },
        {
          "output_type": "display_data",
          "data": {
            "image/png": "[encoded data removed]",
            "text/plain": [
              "<Figure size 1008x288 with 1 Axes>"
            ]
          },
          "metadata": {
            "tags": [],
            "needs_background": "light"
          }
        },
        {
          "output_type": "display_data",
          "data": {
            "image/png": "[encoded data removed]",
            "text/plain": [
              "<Figure size 1008x288 with 1 Axes>"
            ]
          },
          "metadata": {
            "tags": [],
            "needs_background": "light"
          }
        },
        {
          "output_type": "display_data",
          "data": {
            "image/png": "[encoded data removed]",
            "text/plain": [
              "<Figure size 1008x288 with 1 Axes>"
            ]
          },
          "metadata": {
            "tags": [],
            "needs_background": "light"
          }
        },
        {
          "output_type": "display_data",
          "data": {
            "image/png": "[encoded data removed]",
            "text/plain": [
              "<Figure size 1008x288 with 1 Axes>"
            ]
          },
          "metadata": {
            "tags": [],
            "needs_background": "light"
          }
        },
        {
          "output_type": "display_data",
          "data": {
            "image/png": "[encoded data removed]",
            "text/plain": [
              "<Figure size 1008x288 with 1 Axes>"
            ]
          },
          "metadata": {
            "tags": [],
            "needs_background": "light"
          }
        },
        {
          "output_type": "display_data",
          "data": {
            "image/png": "[encoded data removed]",
            "text/plain": [
              "<Figure size 1008x288 with 1 Axes>"
            ]
          },
          "metadata": {
            "tags": [],
            "needs_background": "light"
          }
        },
        {
          "output_type": "display_data",
          "data": {
            "image/png": "[encoded data removed]",
            "text/plain": [
              "<Figure size 1008x288 with 1 Axes>"
            ]
          },
          "metadata": {
            "tags": [],
            "needs_background": "light"
          }
        },
        {
          "output_type": "display_data",
          "data": {
            "image/png": "[encoded data removed]",
            "text/plain": [
              "<Figure size 1008x288 with 1 Axes>"
            ]
          },
          "metadata": {
            "tags": [],
            "needs_background": "light"
          }
        },
        {
          "output_type": "display_data",
          "data": {
            "image/png": "[encoded data removed]",
            "text/plain": [
              "<Figure size 1008x288 with 1 Axes>"
            ]
          },
          "metadata": {
            "tags": [],
            "needs_background": "light"
          }
        },
        {
          "output_type": "display_data",
          "data": {
            "image/png": "[encoded data removed]",
            "text/plain": [
              "<Figure size 1008x288 with 1 Axes>"
            ]
          },
          "metadata": {
            "tags": [],
            "needs_background": "light"
          }
        },
        {
          "output_type": "display_data",
          "data": {
            "image/png": "[encoded data removed]",
            "text/plain": [
              "<Figure size 1008x288 with 1 Axes>"
            ]
          },
          "metadata": {
            "tags": [],
            "needs_background": "light"
          }
        },
        {
          "output_type": "display_data",
          "data": {
            "image/png": "[encoded data removed]",
            "text/plain": [
              "<Figure size 1008x288 with 1 Axes>"
            ]
          },
          "metadata": {
            "tags": [],
            "needs_background": "light"
          }
        }
      ]
    },
    {
      "cell_type": "code",
      "metadata": {
        "id": "U7TUEcQu5NZE"
      },
      "source": [
        "def get_stat_dif(column):\r\n",
        "    cols = stud_math.loc[:, column].value_counts().index[:5]\r\n",
        "    combinations_all = list(combinations(cols, 2))\r\n",
        "    for comb in combinations_all:\r\n",
        "        if ttest_ind(stud_math.loc[stud_math.loc[:, column] == comb[0], 'score'], \r\n",
        "                        stud_math.loc[stud_math.loc[:, column] == comb[1], 'score']).pvalue \\\r\n",
        "            <= 0.05/len(combinations_all): # Учли поправку Бонферони\r\n",
        "            print('Найдены статистически значимые различия для колонки', column)\r\n",
        "            break"
      ],
      "execution_count": 24,
      "outputs": []
    },
    {
      "cell_type": "code",
      "metadata": {
        "colab": {
          "base_uri": "https://localhost:8080/"
        },
        "id": "8PFdPlfP5lUx",
        "outputId": "1dcd11e8-fd1c-4c76-caa9-3cd220be54bb"
      },
      "source": [
        "for col in ['school', 'sex', 'address', 'famsize','Pstatus', 'Mjob', 'Fjob', 'reason', 'guardian', 'schoolsup', 'famsup', \r\n",
        "               'paid', 'activities', 'nursery', 'higher', 'internet', 'romantic']:\r\n",
        "    get_stat_dif(col)"
      ],
      "execution_count": 25,
      "outputs": [
        {
          "output_type": "stream",
          "text": [
            "Найдены статистически значимые различия для колонки Mjob\n"
          ],
          "name": "stdout"
        }
      ]
    },
    {
      "cell_type": "code",
      "metadata": {
        "colab": {
          "base_uri": "https://localhost:8080/",
          "height": 197
        },
        "id": "GqeZu_LJOd3O",
        "outputId": "0e4f62d4-f271-428a-ca6a-d975a327d5c1"
      },
      "source": [
        "new_stud_math = stud_math.loc[:, ['age', 'Medu', 'studytime', 'failures', 'studytime, granular', 'goout', 'health', 'freetime', 'Mjob', 'higher', 'absences']]\r\n",
        "new_stud_math.head()"
      ],
      "execution_count": 28,
      "outputs": [
        {
          "output_type": "execute_result",
          "data": {
            "text/html": [
              "<div>\n",
              "<style scoped>\n",
              "    .dataframe tbody tr th:only-of-type {\n",
              "        vertical-align: middle;\n",
              "    }\n",
              "\n",
              "    .dataframe tbody tr th {\n",
              "        vertical-align: top;\n",
              "    }\n",
              "\n",
              "    .dataframe thead th {\n",
              "        text-align: right;\n",
              "    }\n",
              "</style>\n",
              "<table border=\"1\" class=\"dataframe\">\n",
              "  <thead>\n",
              "    <tr style=\"text-align: right;\">\n",
              "      <th></th>\n",
              "      <th>age</th>\n",
              "      <th>Medu</th>\n",
              "      <th>studytime</th>\n",
              "      <th>failures</th>\n",
              "      <th>studytime, granular</th>\n",
              "      <th>goout</th>\n",
              "      <th>health</th>\n",
              "      <th>freetime</th>\n",
              "      <th>Mjob</th>\n",
              "      <th>higher</th>\n",
              "      <th>absences</th>\n",
              "    </tr>\n",
              "  </thead>\n",
              "  <tbody>\n",
              "    <tr>\n",
              "      <th>0</th>\n",
              "      <td>18</td>\n",
              "      <td>4.0</td>\n",
              "      <td>2.0</td>\n",
              "      <td>0.0</td>\n",
              "      <td>-6.0</td>\n",
              "      <td>4.0</td>\n",
              "      <td>3.0</td>\n",
              "      <td>3.0</td>\n",
              "      <td>at_home</td>\n",
              "      <td>yes</td>\n",
              "      <td>6.0</td>\n",
              "    </tr>\n",
              "    <tr>\n",
              "      <th>1</th>\n",
              "      <td>17</td>\n",
              "      <td>1.0</td>\n",
              "      <td>2.0</td>\n",
              "      <td>0.0</td>\n",
              "      <td>-6.0</td>\n",
              "      <td>3.0</td>\n",
              "      <td>3.0</td>\n",
              "      <td>3.0</td>\n",
              "      <td>at_home</td>\n",
              "      <td>yes</td>\n",
              "      <td>4.0</td>\n",
              "    </tr>\n",
              "    <tr>\n",
              "      <th>2</th>\n",
              "      <td>15</td>\n",
              "      <td>1.0</td>\n",
              "      <td>2.0</td>\n",
              "      <td>3.0</td>\n",
              "      <td>-6.0</td>\n",
              "      <td>2.0</td>\n",
              "      <td>3.0</td>\n",
              "      <td>3.0</td>\n",
              "      <td>at_home</td>\n",
              "      <td>yes</td>\n",
              "      <td>10.0</td>\n",
              "    </tr>\n",
              "    <tr>\n",
              "      <th>3</th>\n",
              "      <td>15</td>\n",
              "      <td>4.0</td>\n",
              "      <td>3.0</td>\n",
              "      <td>0.0</td>\n",
              "      <td>-9.0</td>\n",
              "      <td>2.0</td>\n",
              "      <td>5.0</td>\n",
              "      <td>2.0</td>\n",
              "      <td>health</td>\n",
              "      <td>yes</td>\n",
              "      <td>2.0</td>\n",
              "    </tr>\n",
              "    <tr>\n",
              "      <th>4</th>\n",
              "      <td>16</td>\n",
              "      <td>3.0</td>\n",
              "      <td>2.0</td>\n",
              "      <td>0.0</td>\n",
              "      <td>-6.0</td>\n",
              "      <td>2.0</td>\n",
              "      <td>5.0</td>\n",
              "      <td>3.0</td>\n",
              "      <td>other</td>\n",
              "      <td>yes</td>\n",
              "      <td>4.0</td>\n",
              "    </tr>\n",
              "  </tbody>\n",
              "</table>\n",
              "</div>"
            ],
            "text/plain": [
              "   age  Medu  studytime  failures  studytime, granular  goout  health  \\\n",
              "0   18   4.0        2.0       0.0                 -6.0    4.0     3.0   \n",
              "1   17   1.0        2.0       0.0                 -6.0    3.0     3.0   \n",
              "2   15   1.0        2.0       3.0                 -6.0    2.0     3.0   \n",
              "3   15   4.0        3.0       0.0                 -9.0    2.0     5.0   \n",
              "4   16   3.0        2.0       0.0                 -6.0    2.0     5.0   \n",
              "\n",
              "   freetime     Mjob higher  absences  \n",
              "0       3.0  at_home    yes       6.0  \n",
              "1       3.0  at_home    yes       4.0  \n",
              "2       3.0  at_home    yes      10.0  \n",
              "3       2.0   health    yes       2.0  \n",
              "4       3.0    other    yes       4.0  "
            ]
          },
          "metadata": {
            "tags": []
          },
          "execution_count": 28
        }
      ]
    },
    {
      "cell_type": "markdown",
      "metadata": {
        "id": "LV0XfbIgProF"
      },
      "source": [
        "# Вывод:"
      ]
    },
    {
      "cell_type": "markdown",
      "metadata": {
        "id": "aJ5RL2_yPxYq"
      },
      "source": [
        "В результате EDA для оценки влияния условий жизни учащихся в возрасте от 15 до 22 лет на их успеваемость по математике, чтобы на ранней стадии выявлять студентов, находящихся в группе риска были получены следующие выводы:\r\n",
        "\r\n",
        " - В данных достаточно много незаполненных данных.\r\n",
        " - Самые важные параметры, которые предлагается использовать в дальнейшем для построения модели: 'age', 'Medu', 'studytime', 'failures', 'studytime, granular', 'goout', 'health', 'freetime', 'Mjob', 'higher', 'absences'."
      ]
    }
  ]
}
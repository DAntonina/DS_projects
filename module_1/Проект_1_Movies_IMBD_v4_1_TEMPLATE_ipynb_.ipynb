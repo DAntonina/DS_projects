{
  "nbformat": 4,
  "nbformat_minor": 0,
  "metadata": {
    "colab": {
      "name": "Проект_1_Movies_IMBD_v4.1_TEMPLATE.ipynb\"",
      "provenance": [],
      "collapsed_sections": []
    },
    "kernelspec": {
      "display_name": "Python 3",
      "language": "python",
      "name": "python3"
    },
    "language_info": {
      "codemirror_mode": {
        "name": "ipython",
        "version": 3
      },
      "file_extension": ".py",
      "mimetype": "text/x-python",
      "name": "python",
      "nbconvert_exporter": "python",
      "pygments_lexer": "ipython3",
      "version": "3.7.4"
    }
  },
  "cells": [
    {
      "cell_type": "code",
      "metadata": {
        "_cell_guid": "b1076dfc-b9ad-4769-8c92-a6c4dae69d19",
        "_uuid": "8f2839f25d086af736a60e9eeb907d3b93b6e0e5",
        "id": "U2D2gTdJVp90"
      },
      "source": [
        "import numpy as np\n",
        "import pandas as pd\n",
        "import seaborn as sns\n",
        "import matplotlib.pyplot as plt\n",
        "from collections import Counter"
      ],
      "execution_count": 902,
      "outputs": []
    },
    {
      "cell_type": "code",
      "metadata": {
        "_cell_guid": "79c7e3d0-c299-4dcb-8224-4455121ee9b0",
        "_uuid": "d629ff2d2480ee46fbb7e2d37f6b5fab8052498a",
        "id": "oyGfxL3eVp9-",
        "colab": {
          "base_uri": "https://localhost:8080/",
          "height": 684
        },
        "outputId": "775fb43f-8234-4ccc-fc63-001f93b4d841"
      },
      "source": [
        "data = pd.read_csv('movie_bd_v5.csv')\n",
        "data.sample(5)"
      ],
      "execution_count": 903,
      "outputs": [
        {
          "output_type": "execute_result",
          "data": {
            "text/html": [
              "<div>\n",
              "<style scoped>\n",
              "    .dataframe tbody tr th:only-of-type {\n",
              "        vertical-align: middle;\n",
              "    }\n",
              "\n",
              "    .dataframe tbody tr th {\n",
              "        vertical-align: top;\n",
              "    }\n",
              "\n",
              "    .dataframe thead th {\n",
              "        text-align: right;\n",
              "    }\n",
              "</style>\n",
              "<table border=\"1\" class=\"dataframe\">\n",
              "  <thead>\n",
              "    <tr style=\"text-align: right;\">\n",
              "      <th></th>\n",
              "      <th>imdb_id</th>\n",
              "      <th>budget</th>\n",
              "      <th>revenue</th>\n",
              "      <th>original_title</th>\n",
              "      <th>cast</th>\n",
              "      <th>director</th>\n",
              "      <th>tagline</th>\n",
              "      <th>overview</th>\n",
              "      <th>runtime</th>\n",
              "      <th>genres</th>\n",
              "      <th>production_companies</th>\n",
              "      <th>release_date</th>\n",
              "      <th>vote_average</th>\n",
              "      <th>release_year</th>\n",
              "    </tr>\n",
              "  </thead>\n",
              "  <tbody>\n",
              "    <tr>\n",
              "      <th>1298</th>\n",
              "      <td>tt1532958</td>\n",
              "      <td>20000000</td>\n",
              "      <td>16549477</td>\n",
              "      <td>Battle of the Year</td>\n",
              "      <td>Josh Holloway|Josh Peck|Chris Brown|Laz Alonso...</td>\n",
              "      <td>Benson Lee</td>\n",
              "      <td>The World is watching</td>\n",
              "      <td>A down-on-his-luck coach is hired to prepare a...</td>\n",
              "      <td>110</td>\n",
              "      <td>Music|Drama</td>\n",
              "      <td>Screen Gems</td>\n",
              "      <td>9/21/2013</td>\n",
              "      <td>5.9</td>\n",
              "      <td>2013</td>\n",
              "    </tr>\n",
              "    <tr>\n",
              "      <th>1726</th>\n",
              "      <td>tt0427327</td>\n",
              "      <td>50000000</td>\n",
              "      <td>90450008</td>\n",
              "      <td>Hairspray</td>\n",
              "      <td>John Travolta|Michelle Pfeiffer|Christopher Wa...</td>\n",
              "      <td>Adam Shankman</td>\n",
              "      <td>When you follow your own beat, the world will ...</td>\n",
              "      <td>Pleasantly plump teenager, Tracy Turnblad and ...</td>\n",
              "      <td>117</td>\n",
              "      <td>Comedy|Music|Romance</td>\n",
              "      <td>New Line Cinema</td>\n",
              "      <td>7/13/2007</td>\n",
              "      <td>6.4</td>\n",
              "      <td>2007</td>\n",
              "    </tr>\n",
              "    <tr>\n",
              "      <th>621</th>\n",
              "      <td>tt0448157</td>\n",
              "      <td>150000000</td>\n",
              "      <td>624029371</td>\n",
              "      <td>Hancock</td>\n",
              "      <td>Will Smith|Charlize Theron|Jason Bateman|Jae H...</td>\n",
              "      <td>Peter Berg</td>\n",
              "      <td>Bad Behavior. Bad Attitude. Real Hero.</td>\n",
              "      <td>Hancock is a down-and-out superhero who's forc...</td>\n",
              "      <td>92</td>\n",
              "      <td>Fantasy|Action</td>\n",
              "      <td>Columbia Pictures|Weed Road Pictures|Forward P...</td>\n",
              "      <td>7/1/2008</td>\n",
              "      <td>6.0</td>\n",
              "      <td>2008</td>\n",
              "    </tr>\n",
              "    <tr>\n",
              "      <th>487</th>\n",
              "      <td>tt1226273</td>\n",
              "      <td>80000000</td>\n",
              "      <td>74901339</td>\n",
              "      <td>Edge of Darkness</td>\n",
              "      <td>Mel Gibson|Ray Winstone|Danny Huston|Shawn Rob...</td>\n",
              "      <td>Martin Campbell</td>\n",
              "      <td>Some secrets take us to the edge.</td>\n",
              "      <td>As a seasoned homicide detective, Thomas Crave...</td>\n",
              "      <td>117</td>\n",
              "      <td>Crime|Drama|Mystery|Thriller</td>\n",
              "      <td>Icon Productions|BBC Films|GK Films|Warner Bros.</td>\n",
              "      <td>1/29/2010</td>\n",
              "      <td>6.0</td>\n",
              "      <td>2010</td>\n",
              "    </tr>\n",
              "    <tr>\n",
              "      <th>437</th>\n",
              "      <td>tt1226229</td>\n",
              "      <td>40000000</td>\n",
              "      <td>90029656</td>\n",
              "      <td>Get Him to the Greek</td>\n",
              "      <td>Jonah Hill|Russell Brand|Rose Byrne|Colm Meane...</td>\n",
              "      <td>Nicholas Stoller</td>\n",
              "      <td>Aaron Green has 72 hours to get a Rock Star fr...</td>\n",
              "      <td>Pinnacle records has the perfect plan to get t...</td>\n",
              "      <td>109</td>\n",
              "      <td>Comedy</td>\n",
              "      <td>Universal Pictures|Spyglass Entertainment|Rela...</td>\n",
              "      <td>6/4/2010</td>\n",
              "      <td>5.9</td>\n",
              "      <td>2010</td>\n",
              "    </tr>\n",
              "  </tbody>\n",
              "</table>\n",
              "</div>"
            ],
            "text/plain": [
              "        imdb_id     budget    revenue  ... release_date vote_average release_year\n",
              "1298  tt1532958   20000000   16549477  ...    9/21/2013          5.9         2013\n",
              "1726  tt0427327   50000000   90450008  ...    7/13/2007          6.4         2007\n",
              "621   tt0448157  150000000  624029371  ...     7/1/2008          6.0         2008\n",
              "487   tt1226273   80000000   74901339  ...    1/29/2010          6.0         2010\n",
              "437   tt1226229   40000000   90029656  ...     6/4/2010          5.9         2010\n",
              "\n",
              "[5 rows x 14 columns]"
            ]
          },
          "metadata": {
            "tags": []
          },
          "execution_count": 903
        }
      ]
    },
    {
      "cell_type": "code",
      "metadata": {
        "id": "CoYUnagMVp-C",
        "colab": {
          "base_uri": "https://localhost:8080/",
          "height": 287
        },
        "outputId": "68a9b5eb-e51b-4cb0-c9e0-119237e7dada"
      },
      "source": [
        "data.describe()"
      ],
      "execution_count": 904,
      "outputs": [
        {
          "output_type": "execute_result",
          "data": {
            "text/html": [
              "<div>\n",
              "<style scoped>\n",
              "    .dataframe tbody tr th:only-of-type {\n",
              "        vertical-align: middle;\n",
              "    }\n",
              "\n",
              "    .dataframe tbody tr th {\n",
              "        vertical-align: top;\n",
              "    }\n",
              "\n",
              "    .dataframe thead th {\n",
              "        text-align: right;\n",
              "    }\n",
              "</style>\n",
              "<table border=\"1\" class=\"dataframe\">\n",
              "  <thead>\n",
              "    <tr style=\"text-align: right;\">\n",
              "      <th></th>\n",
              "      <th>budget</th>\n",
              "      <th>revenue</th>\n",
              "      <th>runtime</th>\n",
              "      <th>vote_average</th>\n",
              "      <th>release_year</th>\n",
              "    </tr>\n",
              "  </thead>\n",
              "  <tbody>\n",
              "    <tr>\n",
              "      <th>count</th>\n",
              "      <td>1.889000e+03</td>\n",
              "      <td>1.889000e+03</td>\n",
              "      <td>1889.000000</td>\n",
              "      <td>1889.000000</td>\n",
              "      <td>1889.000000</td>\n",
              "    </tr>\n",
              "    <tr>\n",
              "      <th>mean</th>\n",
              "      <td>5.431083e+07</td>\n",
              "      <td>1.553653e+08</td>\n",
              "      <td>109.658549</td>\n",
              "      <td>6.140762</td>\n",
              "      <td>2007.860773</td>\n",
              "    </tr>\n",
              "    <tr>\n",
              "      <th>std</th>\n",
              "      <td>4.858721e+07</td>\n",
              "      <td>2.146698e+08</td>\n",
              "      <td>18.017041</td>\n",
              "      <td>0.764763</td>\n",
              "      <td>4.468841</td>\n",
              "    </tr>\n",
              "    <tr>\n",
              "      <th>min</th>\n",
              "      <td>5.000000e+06</td>\n",
              "      <td>2.033165e+06</td>\n",
              "      <td>63.000000</td>\n",
              "      <td>3.300000</td>\n",
              "      <td>2000.000000</td>\n",
              "    </tr>\n",
              "    <tr>\n",
              "      <th>25%</th>\n",
              "      <td>2.000000e+07</td>\n",
              "      <td>3.456058e+07</td>\n",
              "      <td>97.000000</td>\n",
              "      <td>5.600000</td>\n",
              "      <td>2004.000000</td>\n",
              "    </tr>\n",
              "    <tr>\n",
              "      <th>50%</th>\n",
              "      <td>3.800000e+07</td>\n",
              "      <td>8.361541e+07</td>\n",
              "      <td>107.000000</td>\n",
              "      <td>6.100000</td>\n",
              "      <td>2008.000000</td>\n",
              "    </tr>\n",
              "    <tr>\n",
              "      <th>75%</th>\n",
              "      <td>7.200000e+07</td>\n",
              "      <td>1.782626e+08</td>\n",
              "      <td>120.000000</td>\n",
              "      <td>6.600000</td>\n",
              "      <td>2012.000000</td>\n",
              "    </tr>\n",
              "    <tr>\n",
              "      <th>max</th>\n",
              "      <td>3.800000e+08</td>\n",
              "      <td>2.781506e+09</td>\n",
              "      <td>214.000000</td>\n",
              "      <td>8.100000</td>\n",
              "      <td>2015.000000</td>\n",
              "    </tr>\n",
              "  </tbody>\n",
              "</table>\n",
              "</div>"
            ],
            "text/plain": [
              "             budget       revenue      runtime  vote_average  release_year\n",
              "count  1.889000e+03  1.889000e+03  1889.000000   1889.000000   1889.000000\n",
              "mean   5.431083e+07  1.553653e+08   109.658549      6.140762   2007.860773\n",
              "std    4.858721e+07  2.146698e+08    18.017041      0.764763      4.468841\n",
              "min    5.000000e+06  2.033165e+06    63.000000      3.300000   2000.000000\n",
              "25%    2.000000e+07  3.456058e+07    97.000000      5.600000   2004.000000\n",
              "50%    3.800000e+07  8.361541e+07   107.000000      6.100000   2008.000000\n",
              "75%    7.200000e+07  1.782626e+08   120.000000      6.600000   2012.000000\n",
              "max    3.800000e+08  2.781506e+09   214.000000      8.100000   2015.000000"
            ]
          },
          "metadata": {
            "tags": []
          },
          "execution_count": 904
        }
      ]
    },
    {
      "cell_type": "code",
      "metadata": {
        "colab": {
          "base_uri": "https://localhost:8080/"
        },
        "id": "0zf_yr3J_0eh",
        "outputId": "3d4a1d15-4a44-4f04-ffc8-71b93350ece1"
      },
      "source": [
        "data.info()"
      ],
      "execution_count": 905,
      "outputs": [
        {
          "output_type": "stream",
          "text": [
            "<class 'pandas.core.frame.DataFrame'>\n",
            "RangeIndex: 1889 entries, 0 to 1888\n",
            "Data columns (total 14 columns):\n",
            " #   Column                Non-Null Count  Dtype  \n",
            "---  ------                --------------  -----  \n",
            " 0   imdb_id               1889 non-null   object \n",
            " 1   budget                1889 non-null   int64  \n",
            " 2   revenue               1889 non-null   int64  \n",
            " 3   original_title        1889 non-null   object \n",
            " 4   cast                  1889 non-null   object \n",
            " 5   director              1889 non-null   object \n",
            " 6   tagline               1889 non-null   object \n",
            " 7   overview              1889 non-null   object \n",
            " 8   runtime               1889 non-null   int64  \n",
            " 9   genres                1889 non-null   object \n",
            " 10  production_companies  1889 non-null   object \n",
            " 11  release_date          1889 non-null   object \n",
            " 12  vote_average          1889 non-null   float64\n",
            " 13  release_year          1889 non-null   int64  \n",
            "dtypes: float64(1), int64(4), object(9)\n",
            "memory usage: 206.7+ KB\n"
          ],
          "name": "stdout"
        }
      ]
    },
    {
      "cell_type": "code",
      "metadata": {
        "colab": {
          "base_uri": "https://localhost:8080/"
        },
        "id": "wUovBGWxLT6f",
        "outputId": "3d72e8e1-1bc0-4a2e-e181-bdab833b83f2"
      },
      "source": [
        "data.columns"
      ],
      "execution_count": 906,
      "outputs": [
        {
          "output_type": "execute_result",
          "data": {
            "text/plain": [
              "Index(['imdb_id', 'budget', 'revenue', 'original_title', 'cast', 'director',\n",
              "       'tagline', 'overview', 'runtime', 'genres', 'production_companies',\n",
              "       'release_date', 'vote_average', 'release_year'],\n",
              "      dtype='object')"
            ]
          },
          "metadata": {
            "tags": []
          },
          "execution_count": 906
        }
      ]
    },
    {
      "cell_type": "markdown",
      "metadata": {
        "id": "DTIt7ezGVp-G"
      },
      "source": [
        "# Предобработка"
      ]
    },
    {
      "cell_type": "code",
      "metadata": {
        "id": "jNb40DwKVp-H"
      },
      "source": [
        "answers = {} # создадим словарь для ответов\n",
        "\n",
        "# тут другие ваши предобработки колонок например:\n",
        "\n",
        "#the time given in the dataset is in string format.\n",
        "#So we need to change this in datetime format\n",
        "data['release_date'] = pd.to_datetime(data['release_date'])\n",
        "# add a column profit\n",
        "data['profit'] = data.revenue-data.budget"
      ],
      "execution_count": 907,
      "outputs": []
    },
    {
      "cell_type": "code",
      "metadata": {
        "colab": {
          "base_uri": "https://localhost:8080/",
          "height": 617
        },
        "id": "ZBDJHKtSqsn_",
        "outputId": "164aba08-6a4f-4286-c386-ffed07014016"
      },
      "source": [
        "data.sample(5)"
      ],
      "execution_count": 908,
      "outputs": [
        {
          "output_type": "execute_result",
          "data": {
            "text/html": [
              "<div>\n",
              "<style scoped>\n",
              "    .dataframe tbody tr th:only-of-type {\n",
              "        vertical-align: middle;\n",
              "    }\n",
              "\n",
              "    .dataframe tbody tr th {\n",
              "        vertical-align: top;\n",
              "    }\n",
              "\n",
              "    .dataframe thead th {\n",
              "        text-align: right;\n",
              "    }\n",
              "</style>\n",
              "<table border=\"1\" class=\"dataframe\">\n",
              "  <thead>\n",
              "    <tr style=\"text-align: right;\">\n",
              "      <th></th>\n",
              "      <th>imdb_id</th>\n",
              "      <th>budget</th>\n",
              "      <th>revenue</th>\n",
              "      <th>original_title</th>\n",
              "      <th>cast</th>\n",
              "      <th>director</th>\n",
              "      <th>tagline</th>\n",
              "      <th>overview</th>\n",
              "      <th>runtime</th>\n",
              "      <th>genres</th>\n",
              "      <th>production_companies</th>\n",
              "      <th>release_date</th>\n",
              "      <th>vote_average</th>\n",
              "      <th>release_year</th>\n",
              "      <th>profit</th>\n",
              "    </tr>\n",
              "  </thead>\n",
              "  <tbody>\n",
              "    <tr>\n",
              "      <th>832</th>\n",
              "      <td>tt1204342</td>\n",
              "      <td>45000000</td>\n",
              "      <td>165184237</td>\n",
              "      <td>The Muppets</td>\n",
              "      <td>Amy Adams|Jason Segel|Emily Blunt|John Krasins...</td>\n",
              "      <td>James Bobin</td>\n",
              "      <td>They're closer than you think.</td>\n",
              "      <td>When Kermit the Frog and the Muppets learn tha...</td>\n",
              "      <td>103</td>\n",
              "      <td>Comedy|Family|Music</td>\n",
              "      <td>Walt Disney Pictures</td>\n",
              "      <td>2011-11-22</td>\n",
              "      <td>6.4</td>\n",
              "      <td>2011</td>\n",
              "      <td>120184237</td>\n",
              "    </tr>\n",
              "    <tr>\n",
              "      <th>449</th>\n",
              "      <td>tt1126591</td>\n",
              "      <td>55000000</td>\n",
              "      <td>89519773</td>\n",
              "      <td>Burlesque</td>\n",
              "      <td>Cher|Christina Aguilera|Eric Dane|Cam Gigandet...</td>\n",
              "      <td>Steve Antin</td>\n",
              "      <td>It takes a legend... to make a star</td>\n",
              "      <td>The Burlesque Lounge has its best days behind ...</td>\n",
              "      <td>119</td>\n",
              "      <td>Drama|Romance</td>\n",
              "      <td>Bedford Falls Productions</td>\n",
              "      <td>2010-11-23</td>\n",
              "      <td>6.8</td>\n",
              "      <td>2010</td>\n",
              "      <td>34519773</td>\n",
              "    </tr>\n",
              "    <tr>\n",
              "      <th>1624</th>\n",
              "      <td>tt0358135</td>\n",
              "      <td>50000000</td>\n",
              "      <td>170128460</td>\n",
              "      <td>Shall We Dance?</td>\n",
              "      <td>Richard Gere|Jennifer Lopez|Susan Sarandon|Lis...</td>\n",
              "      <td>Peter Chelsom</td>\n",
              "      <td>Step out of the ordinary</td>\n",
              "      <td>A romantic comedy where a bored, overworked Es...</td>\n",
              "      <td>107</td>\n",
              "      <td>Drama|Romance|Comedy</td>\n",
              "      <td>Miramax Films</td>\n",
              "      <td>2004-10-15</td>\n",
              "      <td>5.8</td>\n",
              "      <td>2004</td>\n",
              "      <td>120128460</td>\n",
              "    </tr>\n",
              "    <tr>\n",
              "      <th>1221</th>\n",
              "      <td>tt1817273</td>\n",
              "      <td>15000000</td>\n",
              "      <td>35485608</td>\n",
              "      <td>The Place Beyond the Pines</td>\n",
              "      <td>Ryan Gosling|Bradley Cooper|Eva Mendes|Dane De...</td>\n",
              "      <td>Derek Cianfrance</td>\n",
              "      <td>If you ride like lightning you're gonna crash ...</td>\n",
              "      <td>A motorcycle stunt rider considers committing ...</td>\n",
              "      <td>140</td>\n",
              "      <td>Drama|Crime</td>\n",
              "      <td>Sidney Kimmel Entertainment|Electric City Ente...</td>\n",
              "      <td>2013-03-20</td>\n",
              "      <td>6.7</td>\n",
              "      <td>2013</td>\n",
              "      <td>20485608</td>\n",
              "    </tr>\n",
              "    <tr>\n",
              "      <th>1336</th>\n",
              "      <td>tt0360717</td>\n",
              "      <td>207000000</td>\n",
              "      <td>550000000</td>\n",
              "      <td>King Kong</td>\n",
              "      <td>Naomi Watts|Jack Black|Adrien Brody|Thomas Kre...</td>\n",
              "      <td>Peter Jackson</td>\n",
              "      <td>The eighth wonder of the world.</td>\n",
              "      <td>In 1933 New York, an overly ambitious movie pr...</td>\n",
              "      <td>187</td>\n",
              "      <td>Adventure|Drama|Action</td>\n",
              "      <td>WingNut Films|Universal Pictures|Big Primate P...</td>\n",
              "      <td>2005-12-14</td>\n",
              "      <td>6.4</td>\n",
              "      <td>2005</td>\n",
              "      <td>343000000</td>\n",
              "    </tr>\n",
              "  </tbody>\n",
              "</table>\n",
              "</div>"
            ],
            "text/plain": [
              "        imdb_id     budget    revenue  ... vote_average release_year     profit\n",
              "832   tt1204342   45000000  165184237  ...          6.4         2011  120184237\n",
              "449   tt1126591   55000000   89519773  ...          6.8         2010   34519773\n",
              "1624  tt0358135   50000000  170128460  ...          5.8         2004  120128460\n",
              "1221  tt1817273   15000000   35485608  ...          6.7         2013   20485608\n",
              "1336  tt0360717  207000000  550000000  ...          6.4         2005  343000000\n",
              "\n",
              "[5 rows x 15 columns]"
            ]
          },
          "metadata": {
            "tags": []
          },
          "execution_count": 908
        }
      ]
    },
    {
      "cell_type": "markdown",
      "metadata": {
        "id": "YxZaH-nPVp-L"
      },
      "source": [
        "# 1. У какого фильма из списка самый большой бюджет?"
      ]
    },
    {
      "cell_type": "markdown",
      "metadata": {
        "id": "Nd-G5gX6Vp-M"
      },
      "source": [
        "Использовать варианты ответов в коде решения запрещено.    \n",
        "Вы думаете и в жизни у вас будут варианты ответов?)"
      ]
    },
    {
      "cell_type": "code",
      "metadata": {
        "id": "uVnXAY5RVp-O"
      },
      "source": [
        "# в словарь вставляем номер вопроса и ваш ответ на него\n",
        "# Пример: answers['1'] = '2. Spider-Man 3 (tt0413300)'\n",
        "# запишите свой вариант ответа\n",
        "answers['1'] = '1. Pirates of the Caribbean: On Stranger Tides (tt1298650)' # +\n",
        "# если ответили верно, можете добавить комментарий со значком \"+\""
      ],
      "execution_count": 909,
      "outputs": []
    },
    {
      "cell_type": "code",
      "metadata": {
        "id": "dZwb3m28Vp-S",
        "colab": {
          "base_uri": "https://localhost:8080/",
          "height": 35
        },
        "outputId": "172e7b92-04c3-4097-a3d8-ba37892e51a8"
      },
      "source": [
        "# тут пишем ваш код для решения данного вопроса:\r\n",
        "data.groupby(['original_title'])['budget'].max().sort_values(ascending=False).index[0]"
      ],
      "execution_count": 910,
      "outputs": [
        {
          "output_type": "execute_result",
          "data": {
            "application/vnd.google.colaboratory.intrinsic+json": {
              "type": "string"
            },
            "text/plain": [
              "'Pirates of the Caribbean: On Stranger Tides'"
            ]
          },
          "metadata": {
            "tags": []
          },
          "execution_count": 910
        }
      ]
    },
    {
      "cell_type": "code",
      "metadata": {
        "colab": {
          "base_uri": "https://localhost:8080/"
        },
        "id": "BdHnTTjlDzdL",
        "outputId": "ae7f4cfe-9e3b-4e28-bce5-091066924298"
      },
      "source": [
        "data[data.original_title=='Pirates of the Caribbean: On Stranger Tides'].imdb_id"
      ],
      "execution_count": 911,
      "outputs": [
        {
          "output_type": "execute_result",
          "data": {
            "text/plain": [
              "723    tt1298650\n",
              "Name: imdb_id, dtype: object"
            ]
          },
          "metadata": {
            "tags": []
          },
          "execution_count": 911
        }
      ]
    },
    {
      "cell_type": "code",
      "metadata": {
        "colab": {
          "base_uri": "https://localhost:8080/",
          "height": 197
        },
        "id": "tQiIvJnuE2OK",
        "outputId": "9dbdc823-22fa-4250-fb68-f6fc93d4885a"
      },
      "source": [
        "data[data.original_title=='Pirates of the Caribbean: On Stranger Tides']"
      ],
      "execution_count": 912,
      "outputs": [
        {
          "output_type": "execute_result",
          "data": {
            "text/html": [
              "<div>\n",
              "<style scoped>\n",
              "    .dataframe tbody tr th:only-of-type {\n",
              "        vertical-align: middle;\n",
              "    }\n",
              "\n",
              "    .dataframe tbody tr th {\n",
              "        vertical-align: top;\n",
              "    }\n",
              "\n",
              "    .dataframe thead th {\n",
              "        text-align: right;\n",
              "    }\n",
              "</style>\n",
              "<table border=\"1\" class=\"dataframe\">\n",
              "  <thead>\n",
              "    <tr style=\"text-align: right;\">\n",
              "      <th></th>\n",
              "      <th>imdb_id</th>\n",
              "      <th>budget</th>\n",
              "      <th>revenue</th>\n",
              "      <th>original_title</th>\n",
              "      <th>cast</th>\n",
              "      <th>director</th>\n",
              "      <th>tagline</th>\n",
              "      <th>overview</th>\n",
              "      <th>runtime</th>\n",
              "      <th>genres</th>\n",
              "      <th>production_companies</th>\n",
              "      <th>release_date</th>\n",
              "      <th>vote_average</th>\n",
              "      <th>release_year</th>\n",
              "      <th>profit</th>\n",
              "    </tr>\n",
              "  </thead>\n",
              "  <tbody>\n",
              "    <tr>\n",
              "      <th>723</th>\n",
              "      <td>tt1298650</td>\n",
              "      <td>380000000</td>\n",
              "      <td>1021683000</td>\n",
              "      <td>Pirates of the Caribbean: On Stranger Tides</td>\n",
              "      <td>Johnny Depp|PenÃ©lope Cruz|Geoffrey Rush|Ian M...</td>\n",
              "      <td>Rob Marshall</td>\n",
              "      <td>Live Forever Or Die Trying.</td>\n",
              "      <td>Captain Jack Sparrow crosses paths with a woma...</td>\n",
              "      <td>136</td>\n",
              "      <td>Adventure|Action|Fantasy</td>\n",
              "      <td>Walt Disney Pictures|Jerry Bruckheimer Films|M...</td>\n",
              "      <td>2011-05-11</td>\n",
              "      <td>6.3</td>\n",
              "      <td>2011</td>\n",
              "      <td>641683000</td>\n",
              "    </tr>\n",
              "  </tbody>\n",
              "</table>\n",
              "</div>"
            ],
            "text/plain": [
              "       imdb_id     budget     revenue  ... vote_average release_year     profit\n",
              "723  tt1298650  380000000  1021683000  ...          6.3         2011  641683000\n",
              "\n",
              "[1 rows x 15 columns]"
            ]
          },
          "metadata": {
            "tags": []
          },
          "execution_count": 912
        }
      ]
    },
    {
      "cell_type": "code",
      "metadata": {
        "id": "OGaoQI7rVp-X"
      },
      "source": [
        "# можно добавлять разные варианты решения"
      ],
      "execution_count": 913,
      "outputs": []
    },
    {
      "cell_type": "markdown",
      "metadata": {
        "id": "FNRbbI3vVp-c"
      },
      "source": [
        "# 2. Какой из фильмов самый длительный (в минутах)?"
      ]
    },
    {
      "cell_type": "code",
      "metadata": {
        "id": "vHAoEXNTVp-d"
      },
      "source": [
        "# думаю логику работы с этим словарем вы уже поняли, \n",
        "# по этому не буду больше его дублировать\n",
        "answers['2'] = '2. Gods and Generals (tt0279111)' # +"
      ],
      "execution_count": 914,
      "outputs": []
    },
    {
      "cell_type": "code",
      "metadata": {
        "id": "ot-VX2XrVp-g",
        "colab": {
          "base_uri": "https://localhost:8080/",
          "height": 35
        },
        "outputId": "e00603f0-9ce1-4999-a652-36f292b87853"
      },
      "source": [
        "data.groupby(['original_title'])['runtime'].max().sort_values(ascending=False).index[0]"
      ],
      "execution_count": 915,
      "outputs": [
        {
          "output_type": "execute_result",
          "data": {
            "application/vnd.google.colaboratory.intrinsic+json": {
              "type": "string"
            },
            "text/plain": [
              "'Gods and Generals'"
            ]
          },
          "metadata": {
            "tags": []
          },
          "execution_count": 915
        }
      ]
    },
    {
      "cell_type": "code",
      "metadata": {
        "colab": {
          "base_uri": "https://localhost:8080/"
        },
        "id": "_7fh-bX3rPdN",
        "outputId": "72903b16-e2c8-42c8-ca7b-e3fb2d7e68f8"
      },
      "source": [
        "data[data.original_title=='Gods and Generals'].imdb_id"
      ],
      "execution_count": 916,
      "outputs": [
        {
          "output_type": "execute_result",
          "data": {
            "text/plain": [
              "1157    tt0279111\n",
              "Name: imdb_id, dtype: object"
            ]
          },
          "metadata": {
            "tags": []
          },
          "execution_count": 916
        }
      ]
    },
    {
      "cell_type": "markdown",
      "metadata": {
        "id": "bapLlpW8Vp-k"
      },
      "source": [
        "# 3. Какой из фильмов самый короткий (в минутах)?\n",
        "\n",
        "\n",
        "\n"
      ]
    },
    {
      "cell_type": "code",
      "metadata": {
        "id": "sq-_VKh_Ddwr"
      },
      "source": [
        "answers['3'] = '3. Winnie the Pooh (tt1449283)' # +"
      ],
      "execution_count": 917,
      "outputs": []
    },
    {
      "cell_type": "code",
      "metadata": {
        "id": "YBxaSHuAVp-l",
        "colab": {
          "base_uri": "https://localhost:8080/",
          "height": 35
        },
        "outputId": "2c12c281-76d9-419a-faa8-985184316b48"
      },
      "source": [
        "data.groupby(['original_title'])['runtime'].min().sort_values(ascending=True).index[0]\r\n"
      ],
      "execution_count": 918,
      "outputs": [
        {
          "output_type": "execute_result",
          "data": {
            "application/vnd.google.colaboratory.intrinsic+json": {
              "type": "string"
            },
            "text/plain": [
              "'Winnie the Pooh'"
            ]
          },
          "metadata": {
            "tags": []
          },
          "execution_count": 918
        }
      ]
    },
    {
      "cell_type": "code",
      "metadata": {
        "colab": {
          "base_uri": "https://localhost:8080/"
        },
        "id": "PqKQypVdry4R",
        "outputId": "a4204b05-64f5-4f6a-94a1-06991b1e970c"
      },
      "source": [
        "data[data.original_title=='Winnie the Pooh'].imdb_id"
      ],
      "execution_count": 919,
      "outputs": [
        {
          "output_type": "execute_result",
          "data": {
            "text/plain": [
              "768    tt1449283\n",
              "Name: imdb_id, dtype: object"
            ]
          },
          "metadata": {
            "tags": []
          },
          "execution_count": 919
        }
      ]
    },
    {
      "cell_type": "markdown",
      "metadata": {
        "id": "TfQbxbfNVp-p"
      },
      "source": [
        "# 4. Какова средняя длительность фильмов?\n"
      ]
    },
    {
      "cell_type": "code",
      "metadata": {
        "id": "J6FnbfsDFqUK"
      },
      "source": [
        "answers['4'] = '4. 110' # +"
      ],
      "execution_count": 920,
      "outputs": []
    },
    {
      "cell_type": "code",
      "metadata": {
        "id": "5K6dKZYVVp-q",
        "colab": {
          "base_uri": "https://localhost:8080/"
        },
        "outputId": "a863e475-1184-439b-d50e-750e073d42d0"
      },
      "source": [
        "int(round(data.runtime.mean(),0))"
      ],
      "execution_count": 921,
      "outputs": [
        {
          "output_type": "execute_result",
          "data": {
            "text/plain": [
              "110"
            ]
          },
          "metadata": {
            "tags": []
          },
          "execution_count": 921
        }
      ]
    },
    {
      "cell_type": "markdown",
      "metadata": {
        "id": "r5TvbnT_Vp-u"
      },
      "source": [
        "# 5. Каково медианное значение длительности фильмов? "
      ]
    },
    {
      "cell_type": "code",
      "metadata": {
        "id": "W_KM2og-JQNy"
      },
      "source": [
        "answers['5'] = '5. 107' # +"
      ],
      "execution_count": 922,
      "outputs": []
    },
    {
      "cell_type": "code",
      "metadata": {
        "id": "iBROplKnVp-v",
        "colab": {
          "base_uri": "https://localhost:8080/"
        },
        "outputId": "a2829d4c-ba33-4edb-c5a7-c77168774786"
      },
      "source": [
        "int(data.runtime.median())"
      ],
      "execution_count": 923,
      "outputs": [
        {
          "output_type": "execute_result",
          "data": {
            "text/plain": [
              "107"
            ]
          },
          "metadata": {
            "tags": []
          },
          "execution_count": 923
        }
      ]
    },
    {
      "cell_type": "markdown",
      "metadata": {
        "id": "39P-deDSVp-y"
      },
      "source": [
        "# 6. Какой самый прибыльный фильм?\n",
        "#### Внимание! Здесь и далее под «прибылью» или «убытками» понимается разность между сборами и бюджетом фильма. (прибыль = сборы - бюджет) в нашем датасете это будет (profit = revenue - budget) "
      ]
    },
    {
      "cell_type": "code",
      "metadata": {
        "id": "pT9GHzJTuRHe"
      },
      "source": [
        "# лучше код получения столбца profit вынести в Предобработку что в начале"
      ],
      "execution_count": 925,
      "outputs": []
    },
    {
      "cell_type": "code",
      "metadata": {
        "id": "LVnr2I5YRwLW"
      },
      "source": [
        "answers['6'] = '6. Avatar (tt0499549)' # +"
      ],
      "execution_count": 924,
      "outputs": []
    },
    {
      "cell_type": "markdown",
      "metadata": {
        "id": "UZMLXCB1uZ95"
      },
      "source": [
        "ВАРИАНТ 1 "
      ]
    },
    {
      "cell_type": "code",
      "metadata": {
        "colab": {
          "base_uri": "https://localhost:8080/",
          "height": 35
        },
        "id": "ZMGSVtUluNip",
        "outputId": "ae9062df-7b46-4848-bee8-90ba9ceec8ab"
      },
      "source": [
        "data.groupby(['original_title']).profit.max().sort_values(ascending=False).index[0]"
      ],
      "execution_count": 926,
      "outputs": [
        {
          "output_type": "execute_result",
          "data": {
            "application/vnd.google.colaboratory.intrinsic+json": {
              "type": "string"
            },
            "text/plain": [
              "'Avatar'"
            ]
          },
          "metadata": {
            "tags": []
          },
          "execution_count": 926
        }
      ]
    },
    {
      "cell_type": "markdown",
      "metadata": {
        "id": "bj5id0-7uf3S"
      },
      "source": [
        "ВАРИАНТ 2"
      ]
    },
    {
      "cell_type": "code",
      "metadata": {
        "id": "UYZh4T9WVp-y",
        "colab": {
          "base_uri": "https://localhost:8080/"
        },
        "outputId": "d5313434-6ca0-4220-b6d6-eba9fe644e2f"
      },
      "source": [
        "data[data.profit==data.profit.max()].original_title"
      ],
      "execution_count": 927,
      "outputs": [
        {
          "output_type": "execute_result",
          "data": {
            "text/plain": [
              "239    Avatar\n",
              "Name: original_title, dtype: object"
            ]
          },
          "metadata": {
            "tags": []
          },
          "execution_count": 927
        }
      ]
    },
    {
      "cell_type": "code",
      "metadata": {
        "colab": {
          "base_uri": "https://localhost:8080/"
        },
        "id": "dvabfLajsiu4",
        "outputId": "6aae49da-400d-49e8-bc8a-742db7854e75"
      },
      "source": [
        "data[data.original_title=='Avatar'].imdb_id"
      ],
      "execution_count": 928,
      "outputs": [
        {
          "output_type": "execute_result",
          "data": {
            "text/plain": [
              "239    tt0499549\n",
              "Name: imdb_id, dtype: object"
            ]
          },
          "metadata": {
            "tags": []
          },
          "execution_count": 928
        }
      ]
    },
    {
      "cell_type": "markdown",
      "metadata": {
        "id": "M99JmIX4Vp-2"
      },
      "source": [
        "# 7. Какой фильм самый убыточный? "
      ]
    },
    {
      "cell_type": "code",
      "metadata": {
        "id": "5RkC9Yh1R2zi"
      },
      "source": [
        "answers['7'] = '7. The Lone Ranger (tt1210819)' # +"
      ],
      "execution_count": 929,
      "outputs": []
    },
    {
      "cell_type": "markdown",
      "metadata": {
        "id": "1erKae0swKge"
      },
      "source": [
        "ВАРИАНТ 1 "
      ]
    },
    {
      "cell_type": "code",
      "metadata": {
        "colab": {
          "base_uri": "https://localhost:8080/",
          "height": 35
        },
        "id": "qjbRq1DOvt7p",
        "outputId": "40a57119-1aa3-48ca-e612-36a423bc137c"
      },
      "source": [
        "data.groupby(['original_title']).profit.min().sort_values(ascending=False).index[-1]"
      ],
      "execution_count": 930,
      "outputs": [
        {
          "output_type": "execute_result",
          "data": {
            "application/vnd.google.colaboratory.intrinsic+json": {
              "type": "string"
            },
            "text/plain": [
              "'The Lone Ranger'"
            ]
          },
          "metadata": {
            "tags": []
          },
          "execution_count": 930
        }
      ]
    },
    {
      "cell_type": "markdown",
      "metadata": {
        "id": "Mbn_DZXSwLw6"
      },
      "source": [
        "ВАРИАНТ 2"
      ]
    },
    {
      "cell_type": "code",
      "metadata": {
        "colab": {
          "base_uri": "https://localhost:8080/",
          "height": 35
        },
        "id": "SHdBx0Bev6xI",
        "outputId": "759a96dd-4505-4faf-a236-c7be4b598a41"
      },
      "source": [
        "data.groupby(['original_title']).profit.max().sort_values(ascending=True).index[0]"
      ],
      "execution_count": 931,
      "outputs": [
        {
          "output_type": "execute_result",
          "data": {
            "application/vnd.google.colaboratory.intrinsic+json": {
              "type": "string"
            },
            "text/plain": [
              "'The Lone Ranger'"
            ]
          },
          "metadata": {
            "tags": []
          },
          "execution_count": 931
        }
      ]
    },
    {
      "cell_type": "markdown",
      "metadata": {
        "id": "26hrjyXPwOYV"
      },
      "source": [
        "ВАРИАНТ 3"
      ]
    },
    {
      "cell_type": "code",
      "metadata": {
        "id": "w-D2m4XPVp-3",
        "colab": {
          "base_uri": "https://localhost:8080/"
        },
        "outputId": "6438a6e8-7b29-4415-aa53-e4633fff05bd"
      },
      "source": [
        "data[data.profit==data.profit.min()].original_title"
      ],
      "execution_count": 932,
      "outputs": [
        {
          "output_type": "execute_result",
          "data": {
            "text/plain": [
              "1245    The Lone Ranger\n",
              "Name: original_title, dtype: object"
            ]
          },
          "metadata": {
            "tags": []
          },
          "execution_count": 932
        }
      ]
    },
    {
      "cell_type": "code",
      "metadata": {
        "colab": {
          "base_uri": "https://localhost:8080/"
        },
        "id": "7bzP29v_sxHF",
        "outputId": "2f0baa1f-d685-4831-df14-5269dda4a502"
      },
      "source": [
        "data[data.original_title=='The Lone Ranger'].imdb_id"
      ],
      "execution_count": 933,
      "outputs": [
        {
          "output_type": "execute_result",
          "data": {
            "text/plain": [
              "1245    tt1210819\n",
              "Name: imdb_id, dtype: object"
            ]
          },
          "metadata": {
            "tags": []
          },
          "execution_count": 933
        }
      ]
    },
    {
      "cell_type": "markdown",
      "metadata": {
        "id": "wEOM5ERVVp-6"
      },
      "source": [
        "# 8. У скольких фильмов из датасета объем сборов оказался выше бюджета?"
      ]
    },
    {
      "cell_type": "code",
      "metadata": {
        "id": "1GNBM-VlcR0h"
      },
      "source": [
        "answers['8'] = '8. 1478' # +"
      ],
      "execution_count": 934,
      "outputs": []
    },
    {
      "cell_type": "code",
      "metadata": {
        "id": "y00_7HD6Vp-7",
        "colab": {
          "base_uri": "https://localhost:8080/"
        },
        "outputId": "146a6113-3f3f-4c49-d389-82ea9ff07fe5"
      },
      "source": [
        "len(data[data.revenue>data.budget].value_counts())"
      ],
      "execution_count": 935,
      "outputs": [
        {
          "output_type": "execute_result",
          "data": {
            "text/plain": [
              "1478"
            ]
          },
          "metadata": {
            "tags": []
          },
          "execution_count": 935
        }
      ]
    },
    {
      "cell_type": "markdown",
      "metadata": {
        "id": "xhpspA9KVp_A"
      },
      "source": [
        "# 9. Какой фильм оказался самым кассовым в 2008 году?"
      ]
    },
    {
      "cell_type": "code",
      "metadata": {
        "id": "TVBLj5H-cZQj"
      },
      "source": [
        "answers['9'] = '9. The Dark Knight (tt0468569)' # +"
      ],
      "execution_count": 936,
      "outputs": []
    },
    {
      "cell_type": "markdown",
      "metadata": {
        "id": "eBkMptboyDb9"
      },
      "source": [
        "ВАРИАНТ 1"
      ]
    },
    {
      "cell_type": "code",
      "metadata": {
        "id": "MoUyQr9RVp_B",
        "colab": {
          "base_uri": "https://localhost:8080/",
          "height": 35
        },
        "outputId": "b3fdf0ab-21bc-4b24-a0aa-a8e5204f92cd"
      },
      "source": [
        "data[data.release_year==2008].groupby(['original_title'])['revenue'].max().sort_values(ascending=False).index[0]"
      ],
      "execution_count": 937,
      "outputs": [
        {
          "output_type": "execute_result",
          "data": {
            "application/vnd.google.colaboratory.intrinsic+json": {
              "type": "string"
            },
            "text/plain": [
              "'The Dark Knight'"
            ]
          },
          "metadata": {
            "tags": []
          },
          "execution_count": 937
        }
      ]
    },
    {
      "cell_type": "markdown",
      "metadata": {
        "id": "10vj_VZqyHGA"
      },
      "source": [
        "ВАРИАНТ 2"
      ]
    },
    {
      "cell_type": "code",
      "metadata": {
        "colab": {
          "base_uri": "https://localhost:8080/",
          "height": 35
        },
        "id": "kvQqrnFWxr8u",
        "outputId": "9a6179cf-9025-4d13-ae98-ba2e2e12175e"
      },
      "source": [
        "data[data.release_year==2008].groupby(['original_title'])['revenue'].max().idxmax()"
      ],
      "execution_count": 938,
      "outputs": [
        {
          "output_type": "execute_result",
          "data": {
            "application/vnd.google.colaboratory.intrinsic+json": {
              "type": "string"
            },
            "text/plain": [
              "'The Dark Knight'"
            ]
          },
          "metadata": {
            "tags": []
          },
          "execution_count": 938
        }
      ]
    },
    {
      "cell_type": "code",
      "metadata": {
        "colab": {
          "base_uri": "https://localhost:8080/"
        },
        "id": "kLryFHrpwcKi",
        "outputId": "c4ed1933-6abf-48cb-a4a3-7bd76b8a1403"
      },
      "source": [
        "data[data.original_title=='The Dark Knight'].imdb_id"
      ],
      "execution_count": 939,
      "outputs": [
        {
          "output_type": "execute_result",
          "data": {
            "text/plain": [
              "599    tt0468569\n",
              "Name: imdb_id, dtype: object"
            ]
          },
          "metadata": {
            "tags": []
          },
          "execution_count": 939
        }
      ]
    },
    {
      "cell_type": "markdown",
      "metadata": {
        "id": "Zi4hDKidVp_F"
      },
      "source": [
        "# 10. Самый убыточный фильм за период с 2012 по 2014 г. (включительно)?\n"
      ]
    },
    {
      "cell_type": "code",
      "metadata": {
        "id": "bQ2RmLnrSuqT"
      },
      "source": [
        "answers['10'] = '10. The Lone Ranger (tt1210819)' # +"
      ],
      "execution_count": 940,
      "outputs": []
    },
    {
      "cell_type": "markdown",
      "metadata": {
        "id": "0PFDlPDRyNZn"
      },
      "source": [
        "ВАРИАНТ 1"
      ]
    },
    {
      "cell_type": "code",
      "metadata": {
        "id": "XqyRmufJVp_F",
        "colab": {
          "base_uri": "https://localhost:8080/",
          "height": 35
        },
        "outputId": "4fc1d152-4401-49a1-91ec-bb6b47dd821c"
      },
      "source": [
        "data[(data.release_year>=2012) & (data.release_year<=2014)].groupby(['original_title'])['profit'].min().sort_values(ascending=False).index[-1]"
      ],
      "execution_count": 941,
      "outputs": [
        {
          "output_type": "execute_result",
          "data": {
            "application/vnd.google.colaboratory.intrinsic+json": {
              "type": "string"
            },
            "text/plain": [
              "'The Lone Ranger'"
            ]
          },
          "metadata": {
            "tags": []
          },
          "execution_count": 941
        }
      ]
    },
    {
      "cell_type": "markdown",
      "metadata": {
        "id": "PWbP-8c-yPFp"
      },
      "source": [
        "ВАРИАНТ 2"
      ]
    },
    {
      "cell_type": "code",
      "metadata": {
        "colab": {
          "base_uri": "https://localhost:8080/",
          "height": 35
        },
        "id": "xcL-nDd-xliz",
        "outputId": "42931fec-a772-490b-a1a0-b1e98ec18d25"
      },
      "source": [
        "data[(data.release_year>=2012) & (data.release_year<=2014)].groupby(['original_title'])['profit'].min().idxmin()"
      ],
      "execution_count": 942,
      "outputs": [
        {
          "output_type": "execute_result",
          "data": {
            "application/vnd.google.colaboratory.intrinsic+json": {
              "type": "string"
            },
            "text/plain": [
              "'The Lone Ranger'"
            ]
          },
          "metadata": {
            "tags": []
          },
          "execution_count": 942
        }
      ]
    },
    {
      "cell_type": "code",
      "metadata": {
        "colab": {
          "base_uri": "https://localhost:8080/"
        },
        "id": "suNazqMfwphh",
        "outputId": "f7bf2df2-b2aa-4bc2-ad57-b5eb3c81a533"
      },
      "source": [
        "data[data.original_title=='The Lone Ranger'].imdb_id"
      ],
      "execution_count": 943,
      "outputs": [
        {
          "output_type": "execute_result",
          "data": {
            "text/plain": [
              "1245    tt1210819\n",
              "Name: imdb_id, dtype: object"
            ]
          },
          "metadata": {
            "tags": []
          },
          "execution_count": 943
        }
      ]
    },
    {
      "cell_type": "markdown",
      "metadata": {
        "id": "EA7Sa9dkVp_I"
      },
      "source": [
        "# 11. Какого жанра фильмов больше всего?"
      ]
    },
    {
      "cell_type": "code",
      "metadata": {
        "id": "JufOeujqS8Le"
      },
      "source": [
        "answers['11'] = '11. Drama' # +"
      ],
      "execution_count": 944,
      "outputs": []
    },
    {
      "cell_type": "code",
      "metadata": {
        "id": "zsJAwJ8QVp_J",
        "colab": {
          "base_uri": "https://localhost:8080/",
          "height": 35
        },
        "outputId": "24bed9a6-ead1-4296-8d28-54002b5604b4"
      },
      "source": [
        "# эту задачу тоже можно решать разными подходами, попробуй реализовать разные варианты\n",
        "# если будешь добавлять функцию - выноси ее в предобработку что в начале\n",
        "pd.Series(data['genres'].str.cat(sep='|').split('|')).value_counts().idxmax()"
      ],
      "execution_count": 945,
      "outputs": [
        {
          "output_type": "execute_result",
          "data": {
            "application/vnd.google.colaboratory.intrinsic+json": {
              "type": "string"
            },
            "text/plain": [
              "'Drama'"
            ]
          },
          "metadata": {
            "tags": []
          },
          "execution_count": 945
        }
      ]
    },
    {
      "cell_type": "markdown",
      "metadata": {
        "id": "T9_bPWpkVp_Q"
      },
      "source": [
        "# 12. Фильмы какого жанра чаще всего становятся прибыльными? "
      ]
    },
    {
      "cell_type": "code",
      "metadata": {
        "id": "xfs3jERPTIEJ"
      },
      "source": [
        "answers['12'] = '12. Drama' # +"
      ],
      "execution_count": 946,
      "outputs": []
    },
    {
      "cell_type": "code",
      "metadata": {
        "colab": {
          "base_uri": "https://localhost:8080/",
          "height": 35
        },
        "id": "yALzey9RxTsj",
        "outputId": "7c301cf1-dee7-48e9-e622-47a82d702409"
      },
      "source": [
        "pd.Series((data[data['profit'] > 0].genres.str.split('|').sum())).value_counts().idxmax()"
      ],
      "execution_count": 947,
      "outputs": [
        {
          "output_type": "execute_result",
          "data": {
            "application/vnd.google.colaboratory.intrinsic+json": {
              "type": "string"
            },
            "text/plain": [
              "'Drama'"
            ]
          },
          "metadata": {
            "tags": []
          },
          "execution_count": 947
        }
      ]
    },
    {
      "cell_type": "markdown",
      "metadata": {
        "id": "0F23bgsDVp_U"
      },
      "source": [
        "# 13. У какого режиссера самые большие суммарные кассовые сборы?"
      ]
    },
    {
      "cell_type": "code",
      "metadata": {
        "id": "_hpVnAijTLyU"
      },
      "source": [
        "answers['13'] = '13. Peter Jackson' # +"
      ],
      "execution_count": 948,
      "outputs": []
    },
    {
      "cell_type": "code",
      "metadata": {
        "colab": {
          "base_uri": "https://localhost:8080/",
          "height": 35
        },
        "id": "nF_kL2N7paHo",
        "outputId": "dbeceb1f-90cf-47b4-fb38-227d68cf26e8"
      },
      "source": [
        "data.groupby(['director'])['revenue'].sum().idxmax()"
      ],
      "execution_count": 949,
      "outputs": [
        {
          "output_type": "execute_result",
          "data": {
            "application/vnd.google.colaboratory.intrinsic+json": {
              "type": "string"
            },
            "text/plain": [
              "'Peter Jackson'"
            ]
          },
          "metadata": {
            "tags": []
          },
          "execution_count": 949
        }
      ]
    },
    {
      "cell_type": "markdown",
      "metadata": {
        "id": "PsYC9FgRVp_a"
      },
      "source": [
        "# 14. Какой режисер снял больше всего фильмов в стиле Action?"
      ]
    },
    {
      "cell_type": "code",
      "metadata": {
        "id": "m3_S_l1VTfyX"
      },
      "source": [
        "answers['14'] = '14. Robert Rodriguez' # +"
      ],
      "execution_count": 950,
      "outputs": []
    },
    {
      "cell_type": "code",
      "metadata": {
        "id": "wd2M-wHeVp_b",
        "colab": {
          "base_uri": "https://localhost:8080/"
        },
        "outputId": "7a9278ec-be0b-4d76-d4b8-16d43ea581de"
      },
      "source": [
        "action_data = data[data['genres'].str.contains('Action', regex=False) == True]  \r\n",
        "Counter(action_data.director.str.cat(sep='|').split('|')).most_common"
      ],
      "execution_count": 951,
      "outputs": [
        {
          "output_type": "execute_result",
          "data": {
            "text/plain": [
              "<bound method Counter.most_common of Counter({'Robert Rodriguez': 9, 'Michael Bay': 7, 'Paul W.S. Anderson': 7, 'Antoine Fuqua': 6, 'Ridley Scott': 6, 'Brett Ratner': 5, 'Quentin Tarantino': 5, 'Zack Snyder': 5, 'Roland Emmerich': 5, 'Andrzej Bartkowiak': 5, 'Louis Leterrier': 5, 'Tony Scott': 5, 'Paul Greengrass': 5, 'Peter Jackson': 5, 'Lee Tamahori': 5, 'Gore Verbinski': 5, 'Rob Cohen': 5, 'Peter Berg': 5, 'J.J. Abrams': 4, 'Lana Wachowski': 4, 'Lilly Wachowski': 4, 'Olivier Megaton': 4, 'Guy Ritchie': 4, 'Bryan Singer': 4, 'Tim Story': 4, 'Renny Harlin': 4, 'Mark Neveldine': 4, 'Brian Taylor': 4, 'Dominic Sena': 4, 'Justin Lin': 4, 'Christopher Nolan': 4, 'Simon West': 4, 'John Moore': 4, 'Steven Spielberg': 4, 'Martin Campbell': 4, 'John Singleton': 4, 'Len Wiseman': 4, 'Brad Bird': 3, 'Matthew Vaughn': 3, 'Neill Blomkamp': 3, 'Jaume Collet-Serra': 3, 'Breck Eisner': 3, 'Pierre Morel': 3, 'David Ayer': 3, 'Doug Liman': 3, 'Clint Eastwood': 3, 'Phil Lord': 3, 'Christopher Miller': 3, 'McG': 3, 'Stephen Sommers': 3, 'Shawn Levy': 3, 'Jonathan Mostow': 3, 'Jon Favreau': 3, 'Jon Turteltaub': 3, 'Joe Carnahan': 3, 'M. Night Shyamalan': 3, 'Harald Zwart': 3, 'Marc Forster': 3, 'D.J. Caruso': 3, 'Edward Zwick': 3, 'Sam Raimi': 3, 'Barry Sonnenfeld': 3, 'Guillermo del Toro': 3, 'John Woo': 3, 'Uwe Boll': 3, 'David Twohy': 3, 'James Wan': 2, 'Alan Taylor': 2, 'Sam Mendes': 2, 'Joss Whedon': 2, 'Peyton Reed': 2, 'Brad Peyton': 2, 'Wes Ball': 2, 'Michael Mann': 2, 'Paul Feig': 2, 'Ron Howard': 2, 'Camille Delamarre': 2, 'Luc Besson': 2, 'Jonathan Liebesman': 2, 'Matt Reeves': 2, 'Marc Webb': 2, 'Evan Goldberg': 2, 'Seth Rogen': 2, 'Roger Donaldson': 2, 'J.C. Chandor': 2, 'Kenneth Branagh': 2, 'Scott Waugh': 2, 'Alex Proyas': 2, 'James McTeigue': 2, 'NimrÃ³d Antal': 2, 'Gavin Hood': 2, 'Sylvester Stallone': 2, 'Joseph Kosinski': 2, 'Edgar Wright': 2, 'Robert Schwentke': 2, 'James Mangold': 2, 'Neil Marshall': 2, 'Kevin Munroe': 2, 'Peter Howitt': 2, 'Frank Oz': 2, 'Joe Johnston': 2, 'Peter Hyams': 2, 'Timur Bekmambetov': 2, 'David Gordon Green': 2, 'Pete Travis': 2, 'Frank Miller': 2, 'Jason Friedberg': 2, 'Aaron Seltzer': 2, 'Rob Marshall': 2, 'Andrew Niccol': 2, 'Marcus Nispel': 2, 'Ruben Fleischer': 2, 'George Lucas': 2, 'Andrew Davis': 2, 'Walter Hill': 2, 'Rob Bowman': 2, 'Ang Lee': 2, 'Baltasar KormÃ¡kur': 2, 'Mark Steven Johnson': 2, 'F. Gary Gray': 2, 'David Dobkin': 2, 'Clark Johnson': 2, 'Richard Donner': 2, 'William Friedkin': 2, 'Francis Lawrence': 2, 'Courtney Solomon': 2, 'David R. Ellis': 2, 'David S. Goyer': 2, 'Colin Trevorrow': 1, 'George Miller': 1, 'Chris Columbus': 1, 'Christopher McQuarrie': 1, 'Ilya Naishuller': 1, 'Ericson Core': 1, 'Denis Villeneuve': 1, 'Josh Trank': 1, 'Aleksander Bach': 1, 'Andy Fickman': 1, 'John Erick Dowdle': 1, 'Anne Fletcher': 1, 'James Gunn': 1, 'Joe Russo': 1, 'Anthony Russo': 1, 'Chad Stahelski': 1, 'David Leitch': 1, 'Don Hall': 1, 'Chris Williams': 1, 'Neil Burger': 1, 'Gareth Edwards': 1, 'Robert Stromberg': 1, 'Dean DeBlois': 1, 'Patrick Hughes': 1, 'Gary Shore': 1, 'Noam Murro': 1, 'Vic Armstrong': 1, 'JosÃ© Padilha': 1, 'George Clooney': 1, 'Brian A Miller': 1, 'Steven Quale': 1, 'Adam Wingard': 1, 'James Cameron': 1, 'Patrick Tatopoulos': 1, 'Shane Acker': 1, 'Steve Carr': 1, 'Christian Alvart': 1, 'Hoyt Yeatman': 1, 'Kevin Macdonald': 1, 'Michael Spierig': 1, 'Peter Spierig': 1, 'Paul McGuigan': 1, 'Troy Duffy': 1, 'Paul Weitz': 1, 'David Bowers': 1, 'Daniel Barber': 1, 'Michael J. Bassett': 1, 'Pierre Coffin': 1, 'Chris Renaud': 1, 'Phillip Noyce': 1, 'Florian Henckel von Donnersmarck': 1, 'Mike Newell': 1, 'Ethan Maniquis': 1, 'Albert Hughes': 1, 'Allen Hughes': 1, 'Tom McGrath': 1, 'Adam McKay': 1, 'Miguel Sapochnik': 1, 'Andy Tennant': 1, 'Jonathan Lynn': 1, 'Jimmy Hayward': 1, 'Robert Luketic': 1, 'John Luessenhop': 1, 'Kevin Smith': 1, 'Jorma Taccone': 1, 'Brian Levant': 1, 'Stuart Beattie': 1, 'Tim Burton': 1, 'Brian Helgeland': 1, 'John A. Davis': 1, 'Chris Nahon': 1, 'Hironobu Sakaguchi': 1, 'Motonori Sakakibara': 1, 'Rod Lurie': 1, 'John Herzfeld': 1, 'Ivan Reitman': 1, 'Demian Lichtenstein': 1, 'John Carpenter': 1, 'Bobby Farrelly': 1, 'Peter Farrelly': 1, 'Barry Levinson': 1, 'Luke Greenfield': 1, 'Les Mayfield': 1, 'Henry Selick': 1, 'Rob Pritts': 1, 'Ernest R. Dickerson': 1, 'DJ Pooh': 1, 'Eric Brevig': 1, 'Ben Stiller': 1, 'Jeff Wadlow': 1, 'Lexi Alexander': 1, 'Peter Segal': 1, 'Mathieu Kassovitz': 1, 'Rob Minkoff': 1, 'Jon Avnet': 1, 'Dennis Dugan': 1, 'Howard McCain': 1, 'Oxide Pang Chun': 1, 'Danny Pang': 1, 'Craig Mazin': 1, 'Simon Hunter': 1, 'Nicolas Winding Refn': 1, 'Rupert Wyatt': 1, 'Patrick Lussier': 1, 'Gary McKendry': 1, 'Scott Stewart': 1, 'Tarsem Singh': 1, 'Chris Gorak': 1, 'Chris Miller': 1, 'Michel Gondry': 1, 'Oliver Parker': 1, 'Joe Cornish': 1, 'Joe Wright': 1, 'John Michael McDonagh': 1, 'Alister Grierson': 1, 'Sean McNamara': 1, 'John Whitesell': 1, 'Benny Chan': 1, 'Corey Yuen Kwai': 1, 'Stuart Baird': 1, 'Kurt Wimmer': 1, 'Jay Roach': 1, 'Jim Gillespie': 1, 'Chuck Russell': 1, 'Betty Thomas': 1, 'Randall Wallace': 1, 'Ron Shelton': 1, 'Simon Wells': 1, 'Roger Michell': 1, 'Michael Apted': 1, 'Tom Dey': 1, 'Joel Schumacher': 1, 'Luis Mandoki': 1, 'Tamra Davis': 1, 'Ron Underwood': 1, 'Kevin Bray': 1, 'Malcolm D. Lee': 1, 'MÃ¥ns MÃ¥rlind': 1, 'BjÃ¶rn Stein': 1, 'Tony Gilroy': 1, 'Mark Andrews': 1, 'Steve Purcell': 1, 'Brenda Chapman': 1, 'Boaz Yakin': 1, 'Andrew Stanton': 1, 'Rian Johnson': 1, 'Mike McCoy': 1, 'Stephen St. Leger': 1, 'James Mather': 1, 'Daniel Espinosa': 1, 'Asger Leth': 1, 'Mabrouk El Mechri': 1, 'Dan Bradley': 1, 'Julie Anne Robinson': 1, 'Anthony Hemingway': 1, 'David Koepp': 1, 'David Barrett': 1, 'Stephen Norrington': 1, 'Jan de Bont': 1, 'Jon Amiel': 1, 'John McTiernan': 1, 'Shane Black': 1, 'Tommy Wirkola': 1, 'Carl Rinsch': 1, 'Gary Fleder': 1, 'Mikael HÃ¥fstrÃ¶m': 1, 'Taylor Hackford': 1, 'Steven Knight': 1, 'Spike Lee': 1, 'Dito Montiel': 1, 'Keanu Reeves': 1, 'Fyodor Bondarchuk': 1, 'Karyn Kusama': 1, 'Adam Shankman': 1, 'John Stockwell': 1, 'Sydney Pollack': 1, 'Terry Gilliam': 1, 'Jay Chandrasekhar': 1, 'Richard Shepard': 1, 'John Dahl': 1, 'Bruce Hunt': 1, 'Alfonso CuarÃ³n': 1, 'Stefen Fangmeier': 1, 'Mel Gibson': 1, 'Bruce Beresford': 1, 'Wolfgang Petersen': 1, 'Jeff Tremaine': 1, 'John Bonito': 1, 'Geoffrey Sax': 1, 'Tony Bill': 1, 'Wayne Kramer': 1, 'Sanjay Gadhvi': 1, 'Phil Joanou': 1, 'Alexander Witt': 1, 'Bibo Bergeron': 1, 'Vicky Jenson': 1, 'Rob Letterman': 1, 'Kerry Conran': 1, 'Oliver Stone': 1, 'Jonathan Hensleigh': 1, 'Pitof': 1, 'Philip Kaufman': 1, 'Trey Parker': 1, 'Steven Brill': 1, 'Frank Coraci': 1, 'Paul Abascal': 1, 'Joseph Kahn': 1, 'David Mamet': 1, 'Jay Russell': 1, 'Robert Redford': 1, 'Philip G. Atwell': 1, 'Michael Davis': 1, 'Xavier Gens': 1, 'Eli Roth': 1, 'Rob Zombie': 1, 'Jason Eisener': 1, 'Dave Meyers': 1, 'Russell Mulcahy': 1, 'Andrew Dominik': 1, 'Doug Lefler': 1, 'David Leland': 1, 'Feng Xiaogang': 1, 'Ben Garant': 1, 'Joel Coen': 1, 'Donald Petrie': 1, 'Paul Verhoeven': 1, 'Roger Spottiswoode': 1, 'Antony Hoffman': 1, 'Stephen T. Kay': 1, 'Don Bluth': 1, 'Gary Goldman': 1, 'Christian Duguay': 1, 'Douglas Aarniokoski': 1, 'Gina Prince-Bythewood': 1, 'Brian Robbins': 1, 'Des McAnuff': 1})>"
            ]
          },
          "metadata": {
            "tags": []
          },
          "execution_count": 951
        }
      ]
    },
    {
      "cell_type": "markdown",
      "metadata": {
        "id": "PQ0KciD7Vp_f"
      },
      "source": [
        "# 15. Фильмы с каким актером принесли самые высокие кассовые сборы в 2012 году? "
      ]
    },
    {
      "cell_type": "code",
      "metadata": {
        "id": "J5OWKDK1U7hy"
      },
      "source": [
        "answers['15'] = '15. Chris Hemsworth' # +"
      ],
      "execution_count": 952,
      "outputs": []
    },
    {
      "cell_type": "code",
      "metadata": {
        "colab": {
          "base_uri": "https://localhost:8080/"
        },
        "id": "pPWTRKRuOYYH",
        "outputId": "725ae05f-edf9-46df-907b-5b36cee640b0"
      },
      "source": [
        "data2 = data[data['release_year'] == 2012].copy()\r\n",
        "data2['actors'] = data2.cast.str.split('|')\r\n",
        "data3=data2.explode('actors')\r\n",
        "data3.groupby(['actors'])['revenue'].max().sort_values(ascending=False).head(10)"
      ],
      "execution_count": 953,
      "outputs": [
        {
          "output_type": "execute_result",
          "data": {
            "text/plain": [
              "actors\n",
              "Scarlett Johansson    1519557910\n",
              "Chris Evans           1519557910\n",
              "Chris Hemsworth       1519557910\n",
              "Robert Downey Jr.     1519557910\n",
              "Mark Ruffalo          1519557910\n",
              "Judi Dench            1108561013\n",
              "Ralph Fiennes         1108561013\n",
              "Naomie Harris         1108561013\n",
              "Daniel Craig          1108561013\n",
              "Javier Bardem         1108561013\n",
              "Name: revenue, dtype: int64"
            ]
          },
          "metadata": {
            "tags": []
          },
          "execution_count": 953
        }
      ]
    },
    {
      "cell_type": "markdown",
      "metadata": {
        "id": "mWHyyL7QVp_j"
      },
      "source": [
        "# 16. Какой актер снялся в большем количестве высокобюджетных фильмов?"
      ]
    },
    {
      "cell_type": "code",
      "metadata": {
        "id": "eNqh-J6o2kkb"
      },
      "source": [
        "answers['16'] = '16. Matt Damon' # +"
      ],
      "execution_count": 954,
      "outputs": []
    },
    {
      "cell_type": "code",
      "metadata": {
        "id": "qQtmHKTFVp_k",
        "colab": {
          "base_uri": "https://localhost:8080/",
          "height": 35
        },
        "outputId": "495bb799-4928-4523-e9f9-705e9fc6265c"
      },
      "source": [
        "pd.Series(data[data.budget > data.budget.mean()].cast.str.split('|').sum()).value_counts().index[0]"
      ],
      "execution_count": 955,
      "outputs": [
        {
          "output_type": "execute_result",
          "data": {
            "application/vnd.google.colaboratory.intrinsic+json": {
              "type": "string"
            },
            "text/plain": [
              "'Matt Damon'"
            ]
          },
          "metadata": {
            "tags": []
          },
          "execution_count": 955
        }
      ]
    },
    {
      "cell_type": "markdown",
      "metadata": {
        "id": "NIh6AaW5Vp_n"
      },
      "source": [
        "# 17. В фильмах какого жанра больше всего снимался Nicolas Cage? "
      ]
    },
    {
      "cell_type": "code",
      "metadata": {
        "id": "gRAh_33SbkaD"
      },
      "source": [
        "answers['17'] = '17. Action' # +"
      ],
      "execution_count": 956,
      "outputs": []
    },
    {
      "cell_type": "code",
      "metadata": {
        "colab": {
          "base_uri": "https://localhost:8080/",
          "height": 35
        },
        "id": "QC6PDS3UNCN5",
        "outputId": "baaa5e07-06e4-4065-8e05-d51d0a27428f"
      },
      "source": [
        "# contains позволяет проверить наличие подстроки в строке\r\n",
        "nc_data = data[data['cast'].str.contains('Nicolas Cage')]\r\n",
        "df_nc = nc_data[['genres']]\r\n",
        "pd.Series(df_nc.genres.str.split('|').sum()).value_counts().index[0]"
      ],
      "execution_count": 957,
      "outputs": [
        {
          "output_type": "execute_result",
          "data": {
            "application/vnd.google.colaboratory.intrinsic+json": {
              "type": "string"
            },
            "text/plain": [
              "'Action'"
            ]
          },
          "metadata": {
            "tags": []
          },
          "execution_count": 957
        }
      ]
    },
    {
      "cell_type": "markdown",
      "metadata": {
        "id": "RqOmPRfWVp_q"
      },
      "source": [
        "# 18. Самый убыточный фильм от Paramount Pictures"
      ]
    },
    {
      "cell_type": "code",
      "metadata": {
        "id": "HEl52tH-4FAu"
      },
      "source": [
        "answers['18'] = '18. K-19: The Widowmaker (tt0267626)' # +"
      ],
      "execution_count": 958,
      "outputs": []
    },
    {
      "cell_type": "code",
      "metadata": {
        "colab": {
          "base_uri": "https://localhost:8080/",
          "height": 35
        },
        "id": "1J5l5xqJGAJT",
        "outputId": "0f9852b1-927e-41ed-83fb-5ab155cb531c"
      },
      "source": [
        "pp_data = data[data['production_companies'].str.contains('Paramount Pictures', regex=False) == True]\r\n",
        "pp_data.groupby(['original_title']).profit.min().idxmin()"
      ],
      "execution_count": 959,
      "outputs": [
        {
          "output_type": "execute_result",
          "data": {
            "application/vnd.google.colaboratory.intrinsic+json": {
              "type": "string"
            },
            "text/plain": [
              "'K-19: The Widowmaker'"
            ]
          },
          "metadata": {
            "tags": []
          },
          "execution_count": 959
        }
      ]
    },
    {
      "cell_type": "code",
      "metadata": {
        "colab": {
          "base_uri": "https://localhost:8080/"
        },
        "id": "MrKeLzYd33Rm",
        "outputId": "b553ea88-5d6a-4e43-e978-7de9b4a6ad88"
      },
      "source": [
        "pp_data[pp_data.original_title=='K-19: The Widowmaker'].imdb_id"
      ],
      "execution_count": 960,
      "outputs": [
        {
          "output_type": "execute_result",
          "data": {
            "text/plain": [
              "925    tt0267626\n",
              "Name: imdb_id, dtype: object"
            ]
          },
          "metadata": {
            "tags": []
          },
          "execution_count": 960
        }
      ]
    },
    {
      "cell_type": "markdown",
      "metadata": {
        "id": "vS8Ur6ddVp_u"
      },
      "source": [
        "# 19. Какой год стал самым успешным по суммарным кассовым сборам?"
      ]
    },
    {
      "cell_type": "code",
      "metadata": {
        "id": "fY2F_nOI4RqM"
      },
      "source": [
        "answers['19'] = '19. 2005' # +"
      ],
      "execution_count": 961,
      "outputs": []
    },
    {
      "cell_type": "code",
      "metadata": {
        "colab": {
          "base_uri": "https://localhost:8080/"
        },
        "id": "DipOjspp--Is",
        "outputId": "87950852-1f97-45d1-dc28-8a5fdb7f68ef"
      },
      "source": [
        "data.groupby(['release_year'])['revenue'].sum().sort_values(ascending=False).index[0]"
      ],
      "execution_count": 962,
      "outputs": [
        {
          "output_type": "execute_result",
          "data": {
            "text/plain": [
              "2015"
            ]
          },
          "metadata": {
            "tags": []
          },
          "execution_count": 962
        }
      ]
    },
    {
      "cell_type": "markdown",
      "metadata": {
        "id": "JAzJh4QAVp_z"
      },
      "source": [
        "# 20. Какой самый прибыльный год для студии Warner Bros?"
      ]
    },
    {
      "cell_type": "code",
      "metadata": {
        "id": "1pgmou9v4aYr"
      },
      "source": [
        "answers['20'] = '20. 2014' # +"
      ],
      "execution_count": 963,
      "outputs": []
    },
    {
      "cell_type": "code",
      "metadata": {
        "colab": {
          "base_uri": "https://localhost:8080/"
        },
        "id": "SAlSsSIP4db9",
        "outputId": "38b0aa91-e79b-4aea-cc55-32d6ef08e566"
      },
      "source": [
        "wb_data = data[data.production_companies.str.contains('Warner Bros', na=False)]\r\n",
        "wb_data.groupby(['release_year']).profit.sum().idxmax()"
      ],
      "execution_count": 964,
      "outputs": [
        {
          "output_type": "execute_result",
          "data": {
            "text/plain": [
              "2014"
            ]
          },
          "metadata": {
            "tags": []
          },
          "execution_count": 964
        }
      ]
    },
    {
      "cell_type": "markdown",
      "metadata": {
        "id": "8Im1S2HRVp_4"
      },
      "source": [
        "# 21. В каком месяце за все годы суммарно вышло больше всего фильмов?"
      ]
    },
    {
      "cell_type": "code",
      "metadata": {
        "id": "e1mCqUcnCnN5"
      },
      "source": [
        "answers['21'] = '21. Сентябрь' # +"
      ],
      "execution_count": 965,
      "outputs": []
    },
    {
      "cell_type": "code",
      "metadata": {
        "colab": {
          "base_uri": "https://localhost:8080/"
        },
        "id": "U86j345s9Tme",
        "outputId": "2af838b0-2c7a-4cf8-d0ce-95643e336888"
      },
      "source": [
        "data['month'] = data.release_date.apply(lambda date: date.month)\r\n",
        "data['month'].value_counts().idxmax()"
      ],
      "execution_count": 966,
      "outputs": [
        {
          "output_type": "execute_result",
          "data": {
            "text/plain": [
              "9"
            ]
          },
          "metadata": {
            "tags": []
          },
          "execution_count": 966
        }
      ]
    },
    {
      "cell_type": "markdown",
      "metadata": {
        "id": "uAJsZ_NeVp_7"
      },
      "source": [
        "# 22. Сколько суммарно вышло фильмов летом? (за июнь, июль, август)"
      ]
    },
    {
      "cell_type": "code",
      "metadata": {
        "id": "4Q8JiEjCEQKI"
      },
      "source": [
        "answers['22'] = '22. 450' # +"
      ],
      "execution_count": 967,
      "outputs": []
    },
    {
      "cell_type": "code",
      "metadata": {
        "colab": {
          "base_uri": "https://localhost:8080/"
        },
        "id": "Wr7MW1m76eIu",
        "outputId": "30de1442-3466-4fe4-ca47-b001b99f9620"
      },
      "source": [
        "june = data[data.release_date.dt.month==6].value_counts()\r\n",
        "july = data[data.release_date.dt.month==7].value_counts()\r\n",
        "august = data[data.release_date.dt.month==8].value_counts()\r\n",
        "len(june)+len(july)+len(august)"
      ],
      "execution_count": 968,
      "outputs": [
        {
          "output_type": "execute_result",
          "data": {
            "text/plain": [
              "450"
            ]
          },
          "metadata": {
            "tags": []
          },
          "execution_count": 968
        }
      ]
    },
    {
      "cell_type": "markdown",
      "metadata": {
        "id": "G94ppOY1VqAA"
      },
      "source": [
        "# 23. Для какого режиссера зима – самое продуктивное время года? "
      ]
    },
    {
      "cell_type": "code",
      "metadata": {
        "id": "_TVdSnrANojB"
      },
      "source": [
        "answers['23'] = '23. Peter Jackson' # +"
      ],
      "execution_count": 969,
      "outputs": []
    },
    {
      "cell_type": "code",
      "metadata": {
        "id": "E-iiTGBByyQR",
        "colab": {
          "base_uri": "https://localhost:8080/"
        },
        "outputId": "a0488cee-d501-4a7f-cf99-0667b026ccd7"
      },
      "source": [
        "pd.Series(data[data.release_date.dt.month==12].director.str.split('|')).value_counts().idxmax()"
      ],
      "execution_count": 970,
      "outputs": [
        {
          "output_type": "execute_result",
          "data": {
            "text/plain": [
              "['Peter Jackson']"
            ]
          },
          "metadata": {
            "tags": []
          },
          "execution_count": 970
        }
      ]
    },
    {
      "cell_type": "markdown",
      "metadata": {
        "id": "RBo0JVjVVqAF"
      },
      "source": [
        "# 24. Какая студия дает самые длинные названия своим фильмам по количеству символов?"
      ]
    },
    {
      "cell_type": "code",
      "metadata": {
        "id": "uwRaPH_LQTFo"
      },
      "source": [
        "answers['24'] = '24. Four By Two Productions' # +"
      ],
      "execution_count": 971,
      "outputs": []
    },
    {
      "cell_type": "code",
      "metadata": {
        "colab": {
          "base_uri": "https://localhost:8080/",
          "height": 35
        },
        "id": "ISWYQXDrQRTM",
        "outputId": "b69b0bca-8304-403b-f1c3-2d2b67b64815"
      },
      "source": [
        "data['original_title_len'] = data.original_title.apply(lambda x: len(x))\r\n",
        "pd.Series(data[data.original_title_len==data.original_title_len.max()].production_companies.str.cat(sep='|').split('|')).value_counts().index[0]"
      ],
      "execution_count": 972,
      "outputs": [
        {
          "output_type": "execute_result",
          "data": {
            "application/vnd.google.colaboratory.intrinsic+json": {
              "type": "string"
            },
            "text/plain": [
              "'Four By Two Productions'"
            ]
          },
          "metadata": {
            "tags": []
          },
          "execution_count": 972
        }
      ]
    },
    {
      "cell_type": "markdown",
      "metadata": {
        "id": "9G0hbvR7VqAK"
      },
      "source": [
        "# 25. Описание фильмов какой студии в среднем самые длинные по количеству слов?"
      ]
    },
    {
      "cell_type": "code",
      "metadata": {
        "id": "lu4KruioVRvS"
      },
      "source": [
        "answers['25'] = '25. ... '"
      ],
      "execution_count": 973,
      "outputs": []
    },
    {
      "cell_type": "markdown",
      "metadata": {
        "id": "FJ1AFt90VqAP"
      },
      "source": [
        "# 26. Какие фильмы входят в 1 процент лучших по рейтингу? \n",
        "по vote_average"
      ]
    },
    {
      "cell_type": "code",
      "metadata": {
        "id": "hmvmQUzMRhWx"
      },
      "source": [
        "answers['26'] = '26. Inside Out, The Dark Knight, 12 Years a Slave' # +"
      ],
      "execution_count": 974,
      "outputs": []
    },
    {
      "cell_type": "code",
      "metadata": {
        "colab": {
          "base_uri": "https://localhost:8080/"
        },
        "id": "eUOp7RN2Rfci",
        "outputId": "91a2f6a3-bfd0-4e73-d750-93f2e1df91f4"
      },
      "source": [
        "data.groupby(['vote_average'])['original_title'].max()"
      ],
      "execution_count": 975,
      "outputs": [
        {
          "output_type": "execute_result",
          "data": {
            "text/plain": [
              "vote_average\n",
              "3.3                               FearDotCom\n",
              "3.4                        House of the Dead\n",
              "3.5                     From Justin to Kelly\n",
              "3.8                              Left Behind\n",
              "3.9                       Dungeons & Dragons\n",
              "4.0     The Adventures of Rocky & Bullwinkle\n",
              "4.1    Street Fighter: The Legend of Chun-Li\n",
              "4.2                                  The Fog\n",
              "4.3                            Vampires Suck\n",
              "4.4                   The Legend of Hercules\n",
              "4.5                                 Year One\n",
              "4.6                               The Spirit\n",
              "4.7                              The Pyramid\n",
              "4.8                  xXx: State of the Union\n",
              "4.9                      Unfinished Business\n",
              "5.0                        Whatever It Takes\n",
              "5.1                                     Zoom\n",
              "5.2                              Young Adult\n",
              "5.3                                Ã†on Flux\n",
              "5.4                                Zookeeper\n",
              "5.5                     Ð¡Ñ‚Ð°Ð»Ð¸Ð½Ð³Ñ€Ð°Ð´\n",
              "5.6            You Don't Mess With the Zohan\n",
              "5.7                                      xXx\n",
              "5.8                    What Happens in Vegas\n",
              "5.9                               Young Adam\n",
              "6.0               Zack and Miri Make a Porno\n",
              "6.1                                Zoolander\n",
              "6.2                    X-Men: The Last Stand\n",
              "6.3                                  Yes Man\n",
              "6.4                          Xin shao lin si\n",
              "6.5                         Zero Dark Thirty\n",
              "6.6                                    X-Men\n",
              "6.7                                       X2\n",
              "6.8                          Winnie the Pooh\n",
              "6.9                                War Horse\n",
              "7.0                       X-Men: First Class\n",
              "7.1                               Zombieland\n",
              "7.2                                 Unbroken\n",
              "7.3                            Woman in Gold\n",
              "7.4                        The King's Speech\n",
              "7.5                              Toy Story 3\n",
              "7.6               X-Men: Days of Future Past\n",
              "7.7                             The Departed\n",
              "7.8                      There Will Be Blood\n",
              "7.9                  The Wolf of Wall Street\n",
              "8.0                       The Imitation Game\n",
              "8.1                          The Dark Knight\n",
              "Name: original_title, dtype: object"
            ]
          },
          "metadata": {
            "tags": []
          },
          "execution_count": 975
        }
      ]
    },
    {
      "cell_type": "markdown",
      "metadata": {
        "id": "MdXsUXbCVqAV"
      },
      "source": [
        "# 27. Какие актеры чаще всего снимаются в одном фильме вместе?\n"
      ]
    },
    {
      "cell_type": "code",
      "metadata": {
        "id": "gDPtxcVTU1hs"
      },
      "source": [
        "answers['27'] = '27. Daniel Radcliffe & Rupert Grint' # +"
      ],
      "execution_count": 976,
      "outputs": []
    },
    {
      "cell_type": "markdown",
      "metadata": {
        "id": "4ymnxEVoVqAW"
      },
      "source": [
        "ВАРИАНТ 2"
      ]
    },
    {
      "cell_type": "code",
      "metadata": {
        "id": "kXdK8JmgFI4v"
      },
      "source": [
        ""
      ],
      "execution_count": 976,
      "outputs": []
    },
    {
      "cell_type": "markdown",
      "metadata": {
        "id": "U0nONFnGVqAX"
      },
      "source": [
        "# Submission"
      ]
    },
    {
      "cell_type": "code",
      "metadata": {
        "id": "IfcaRO9-VqAX",
        "colab": {
          "base_uri": "https://localhost:8080/"
        },
        "outputId": "a817a48c-b742-4d66-ea98-316a3fd40a10"
      },
      "source": [
        "# в конце можно посмотреть свои ответы к каждому вопросу\n",
        "answers"
      ],
      "execution_count": 977,
      "outputs": [
        {
          "output_type": "execute_result",
          "data": {
            "text/plain": [
              "{'1': '1. Pirates of the Caribbean: On Stranger Tides (tt1298650)',\n",
              " '10': '10. The Lone Ranger (tt1210819)',\n",
              " '11': '11. Drama',\n",
              " '12': '12. Drama',\n",
              " '13': '13. Peter Jackson',\n",
              " '14': '14. Robert Rodriguez',\n",
              " '15': '15. Chris Hemsworth',\n",
              " '16': '16. Matt Damon',\n",
              " '17': '17. Action',\n",
              " '18': '18. K-19: The Widowmaker (tt0267626)',\n",
              " '19': '19. 2005',\n",
              " '2': '2. Gods and Generals (tt0279111)',\n",
              " '20': '20. 2014',\n",
              " '21': '21. Сентябрь',\n",
              " '22': '22. 450',\n",
              " '23': '23. Peter Jackson',\n",
              " '24': '24. Four By Two Productions',\n",
              " '25': '25. ... ',\n",
              " '26': '26. Inside Out, The Dark Knight, 12 Years a Slave',\n",
              " '27': '27. Daniel Radcliffe & Rupert Grint',\n",
              " '3': '3. Winnie the Pooh (tt1449283)',\n",
              " '4': '4. 110',\n",
              " '5': '5. 107',\n",
              " '6': '6. Avatar (tt0499549)',\n",
              " '7': '7. The Lone Ranger (tt1210819)',\n",
              " '8': '8. 1478',\n",
              " '9': '9. The Dark Knight (tt0468569)'}"
            ]
          },
          "metadata": {
            "tags": []
          },
          "execution_count": 977
        }
      ]
    },
    {
      "cell_type": "code",
      "metadata": {
        "id": "SiRmHPl8VqAd",
        "colab": {
          "base_uri": "https://localhost:8080/"
        },
        "outputId": "23927c9b-1fd4-4a0f-abe3-cfa2f3663d2f"
      },
      "source": [
        "# и убедиться что ни чего не пропустил)\n",
        "len(answers)"
      ],
      "execution_count": 978,
      "outputs": [
        {
          "output_type": "execute_result",
          "data": {
            "text/plain": [
              "27"
            ]
          },
          "metadata": {
            "tags": []
          },
          "execution_count": 978
        }
      ]
    },
    {
      "cell_type": "code",
      "metadata": {
        "id": "uCfuTkRbVqAg"
      },
      "source": [
        ""
      ],
      "execution_count": 978,
      "outputs": []
    },
    {
      "cell_type": "code",
      "metadata": {
        "id": "Vwx3NrkSVqAl"
      },
      "source": [
        ""
      ],
      "execution_count": 978,
      "outputs": []
    }
  ]
}
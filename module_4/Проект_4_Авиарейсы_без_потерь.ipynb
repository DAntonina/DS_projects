{
  "nbformat": 4,
  "nbformat_minor": 0,
  "metadata": {
    "colab": {
      "name": " Проект 4. Авиарейсы без потерь.ipynb",
      "provenance": []
    },
    "kernelspec": {
      "name": "python3",
      "display_name": "Python 3"
    },
    "language_info": {
      "name": "python"
    }
  },
  "cells": [
    {
      "cell_type": "markdown",
      "metadata": {
        "id": "042sVaEgRTUE"
      },
      "source": [
        " Проект 4. Авиарейсы без потерь "
      ]
    },
    {
      "cell_type": "markdown",
      "metadata": {
        "id": "h699T53-cfL9"
      },
      "source": [
        "Задание 4.1 \n",
        "\n",
        "База данных содержит список аэропортов практически всех крупных городов России. В большинстве городов есть только один аэропорт. Исключение составляет:"
      ]
    },
    {
      "cell_type": "code",
      "metadata": {
        "id": "M9q6QKGiRNtN"
      },
      "source": [
        "SELECT city\n",
        "FROM dst_project.airports\n",
        "GROUP BY city\n",
        "HAVING count(city)>1\n",
        "\n",
        "# Moscow, Ulyanovsk"
      ],
      "execution_count": null,
      "outputs": []
    },
    {
      "cell_type": "markdown",
      "metadata": {
        "id": "ZVveVvWsccyF"
      },
      "source": [
        "Задание 4.2 \n",
        "\n",
        "Вопрос 1. Таблица рейсов содержит всю информацию о прошлых, текущих и запланированных рейсах. Сколько всего статусов для рейсов определено в таблице?"
      ]
    },
    {
      "cell_type": "code",
      "metadata": {
        "id": "_--L3DcDdr5a"
      },
      "source": [
        "SELECT count(DISTINCT status)\n",
        "FROM dst_project.flights\n",
        "\n",
        "# 6"
      ],
      "execution_count": null,
      "outputs": []
    },
    {
      "cell_type": "markdown",
      "metadata": {
        "id": "baD-yYtAd9GY"
      },
      "source": [
        "Вопрос 2. Какое количество самолетов находятся в воздухе на момент среза в базе (статус рейса «самолёт уже вылетел и находится в воздухе»). "
      ]
    },
    {
      "cell_type": "code",
      "metadata": {
        "id": "UJmNDGiPd8pR"
      },
      "source": [
        "SELECT count(aircraft_code)\n",
        "FROM dst_project.flights\n",
        "WHERE status ='Departed'\n",
        "\n",
        "# 58"
      ],
      "execution_count": null,
      "outputs": []
    },
    {
      "cell_type": "markdown",
      "metadata": {
        "id": "_H453a8peES3"
      },
      "source": [
        "Вопрос 3. Места определяют схему салона каждой модели. Сколько мест имеет самолет модели (Boeing 777-300)? "
      ]
    },
    {
      "cell_type": "code",
      "metadata": {
        "id": "8BiLbIbXeFDo"
      },
      "source": [
        "SELECT count(seat_no)\n",
        "FROM dst_project.seats\n",
        "WHERE aircraft_code = '773'\n",
        "\n",
        "# 402"
      ],
      "execution_count": null,
      "outputs": []
    },
    {
      "cell_type": "markdown",
      "metadata": {
        "id": "ePpK2cYPeIOx"
      },
      "source": [
        "Вопрос 4. Сколько состоявшихся (фактических) рейсов было совершено между 1 апреля 2017 года и 1 сентября 2017 года?\n",
        "\n",
        "Здесь и далее состоявшийся рейс означает, что он не отменён, и самолёт прибыл в пункт назначения."
      ]
    },
    {
      "cell_type": "code",
      "metadata": {
        "id": "wtMvDGg4eI4w"
      },
      "source": [
        "SELECT count(*)\n",
        "FROM dst_project.flights\n",
        "WHERE actual_arrival > to_date('2017-04-01', 'YYYY-MM-DD')\n",
        "    and actual_arrival < to_date('2017-09-01', 'YYYY-MM-DD')\n",
        "    and status != 'Cancelled' and status = 'Arrived'\n",
        "\n",
        "# 74227"
      ],
      "execution_count": null,
      "outputs": []
    },
    {
      "cell_type": "markdown",
      "metadata": {
        "id": "yOL4B-ddeLmQ"
      },
      "source": [
        " Задание 4.3\n",
        "\n",
        "Вопрос 1. Сколько всего рейсов было отменено по данным базы?"
      ]
    },
    {
      "cell_type": "code",
      "metadata": {
        "id": "UrX_0tuweNnK"
      },
      "source": [
        "SELECT count(*)\n",
        "FROM dst_project.flights\n",
        "WHERE status = 'Cancelled'\n",
        "\n",
        "# 437"
      ],
      "execution_count": null,
      "outputs": []
    },
    {
      "cell_type": "markdown",
      "metadata": {
        "id": "XepWTe2deRQC"
      },
      "source": [
        "Вопрос 2. Сколько самолетов моделей типа Boeing, Sukhoi Superjet, Airbus находится в базе авиаперевозок? "
      ]
    },
    {
      "cell_type": "code",
      "metadata": {
        "id": "YY3EcX6keKHP"
      },
      "source": [
        "WITH p AS\n",
        "  (SELECT 'Airbus' AS p_name,\n",
        "          *\n",
        "   FROM dst_project.aircrafts\n",
        "   WHERE model like ('Airbus%')\n",
        "   UNION SELECT 'Boeing' AS p_name,\n",
        "                *\n",
        "   FROM dst_project.aircrafts\n",
        "   WHERE model like ('Boeing%')\n",
        "   UNION SELECT 'Sukhoi Superjet' AS p_name,\n",
        "                *\n",
        "   FROM dst_project.aircrafts\n",
        "   WHERE model like ('Sukhoi Superjet%') )\n",
        "SELECT p_name,\n",
        "       count(*)\n",
        "FROM p\n",
        "GROUP BY p_name\n",
        "\n",
        "# Boeing: 3, Sukhoi Superjet: 1, Airbus: 3"
      ],
      "execution_count": null,
      "outputs": []
    },
    {
      "cell_type": "markdown",
      "metadata": {
        "id": "m1MrA3p6eKTm"
      },
      "source": [
        "Вопрос 3. В какой части (частях) света находится больше аэропортов? "
      ]
    },
    {
      "cell_type": "code",
      "metadata": {
        "id": "Ih70d8uEfaEx"
      },
      "source": [
        "SELECT substring(timezone\n",
        "                 FROM 0\n",
        "                 FOR position('/' in timezone)) AS part_of_world,\n",
        "       count(airport_code)\n",
        "FROM dst_project.airports\n",
        "GROUP BY 1\n",
        "\n",
        "# Europe, Asia"
      ],
      "execution_count": null,
      "outputs": []
    },
    {
      "cell_type": "markdown",
      "metadata": {
        "id": "L8WH9MyDfeDo"
      },
      "source": [
        "Вопрос 4. У какого рейса была самая большая задержка прибытия за все время сбора данных? Введите id рейса (flight_id). "
      ]
    },
    {
      "cell_type": "code",
      "metadata": {
        "id": "ezOCS7sIfevg"
      },
      "source": [
        "SELECT flight_id,\n",
        "       max(actual_arrival - scheduled_arrival) AS delay\n",
        "FROM dst_project.flights\n",
        "GROUP BY flight_id\n",
        "ORDER BY delay DESC NULLS LAST\n",
        "LIMIT 1\n",
        "\n",
        "# 157571"
      ],
      "execution_count": null,
      "outputs": []
    },
    {
      "cell_type": "markdown",
      "metadata": {
        "id": "g9m2MYZ5hHFO"
      },
      "source": [
        "Задание 4.4 \n",
        "\n",
        "Вопрос 1. Когда был запланирован самый первый вылет, сохраненный в базе данных? "
      ]
    },
    {
      "cell_type": "code",
      "metadata": {
        "id": "Tubeay_ShNjU"
      },
      "source": [
        "SELECT min(scheduled_departure)\n",
        "FROM dst_project.flights\n",
        "\n",
        "# 14.08.2016"
      ],
      "execution_count": null,
      "outputs": []
    },
    {
      "cell_type": "markdown",
      "metadata": {
        "id": "6Uz5qFr5hZtc"
      },
      "source": [
        "Вопрос 2. Сколько минут составляет запланированное время полета в самом длительном рейсе? "
      ]
    },
    {
      "cell_type": "code",
      "metadata": {
        "id": "dju0q7fUhaTj"
      },
      "source": [
        "SELECT max(extract(epoch\n",
        "                   FROM (scheduled_arrival - scheduled_departure))) / 60\n",
        "FROM dst_project.flights\n",
        "\n",
        "# 530"
      ],
      "execution_count": null,
      "outputs": []
    },
    {
      "cell_type": "markdown",
      "metadata": {
        "id": "DmU3mJtzh794"
      },
      "source": [
        "Вопрос 3. Между какими аэропортами пролегает самый длительный по времени запланированный рейс? "
      ]
    },
    {
      "cell_type": "code",
      "metadata": {
        "id": "bFipjvhGiQm2"
      },
      "source": [
        "SELECT departure_airport,\n",
        "       arrival_airport,\n",
        "       status,\n",
        "       max(scheduled_arrival - scheduled_departure) AS total_time\n",
        "FROM dst_project.flights\n",
        "WHERE status = 'Scheduled'\n",
        "  AND departure_airport in ('DME',\n",
        "                            'SVO')\n",
        "  AND arrival_airport in ('UUS',\n",
        "                          'AAQ',\n",
        "                          'PCS')\n",
        "GROUP BY departure_airport,\n",
        "         arrival_airport,\n",
        "         status\n",
        "ORDER BY total_time DESC\n",
        "LIMIT 1\n",
        "\n",
        "# DME - UUS"
      ],
      "execution_count": null,
      "outputs": []
    },
    {
      "cell_type": "markdown",
      "metadata": {
        "id": "YGg-xdpriQ8u"
      },
      "source": [
        "Вопрос 4. Сколько составляет средняя дальность полета среди всех самолетов в минутах? Секунды округляются в меньшую сторону (отбрасываются до минут). "
      ]
    },
    {
      "cell_type": "code",
      "metadata": {
        "id": "gCD8QWKYiS_1"
      },
      "source": [
        "SELECT floor(avg(extract(epoch\n",
        "                         FROM (actual_arrival - actual_departure))) / 60)\n",
        "FROM dst_project.flights\n",
        "\n",
        "# 128"
      ],
      "execution_count": null,
      "outputs": []
    },
    {
      "cell_type": "markdown",
      "metadata": {
        "id": "3DkDdFhswLAV"
      },
      "source": [
        " Задание 4.5\n",
        "\n",
        "Вопрос 1. Мест какого класса у SU9 больше всего? "
      ]
    },
    {
      "cell_type": "code",
      "metadata": {
        "id": "zocelvMawMhc"
      },
      "source": [
        "SELECT fare_conditions,\n",
        "       count(*) total\n",
        "FROM dst_project.seats\n",
        "WHERE aircraft_code = 'SU9'\n",
        "GROUP BY fare_conditions\n",
        "ORDER BY total DESC\n",
        "LIMIT 1\n",
        "\n",
        "# Economy "
      ],
      "execution_count": null,
      "outputs": []
    },
    {
      "cell_type": "markdown",
      "metadata": {
        "id": "2Y4yxtP4xfrl"
      },
      "source": [
        "Вопрос 2. Какую самую минимальную стоимость составило бронирование за всю историю? "
      ]
    },
    {
      "cell_type": "code",
      "metadata": {
        "id": "fDbw7LYDxiDA"
      },
      "source": [
        "SELECT min(total_amount)\n",
        "FROM dst_project.bookings\n",
        "\n",
        "# 3400"
      ],
      "execution_count": null,
      "outputs": []
    },
    {
      "cell_type": "markdown",
      "metadata": {
        "id": "BZSOQtgxxiSV"
      },
      "source": [
        "Вопрос 3. Какой номер места был у пассажира с id = 4313 788533? "
      ]
    },
    {
      "cell_type": "code",
      "metadata": {
        "id": "uvfpvnZxxi5P"
      },
      "source": [
        "SELECT seat_no\n",
        "FROM dst_project.tickets AS t\n",
        "JOIN dst_project.boarding_passes bp ON t.ticket_no = bp.ticket_no\n",
        "WHERE passenger_id = '4313 788533'\n",
        "\n",
        "# 2A"
      ],
      "execution_count": null,
      "outputs": []
    },
    {
      "cell_type": "markdown",
      "metadata": {
        "id": "wnA8ohx6yPKr"
      },
      "source": [
        " Задание 5.1\n",
        "\n",
        "Вопрос 1. Анапа — курортный город на юге России. Сколько рейсов прибыло в Анапу за 2017 год?"
      ]
    },
    {
      "cell_type": "code",
      "metadata": {
        "id": "ntCa5jT3yQuQ"
      },
      "source": [
        "SELECT count(*)\n",
        "FROM dst_project.airports a\n",
        "JOIN dst_project.flights f ON a.airport_code = f.arrival_airport\n",
        "WHERE a.city = 'Anapa'\n",
        "  AND date_part('year', actual_arrival) = 2017\n",
        "\n",
        "# 486"
      ],
      "execution_count": null,
      "outputs": []
    },
    {
      "cell_type": "markdown",
      "metadata": {
        "id": "7c1pTAyuypk6"
      },
      "source": [
        "Вопрос 2. Сколько рейсов из Анапы вылетело зимой 2017 года?"
      ]
    },
    {
      "cell_type": "code",
      "metadata": {
        "id": "W3ABqa5cyp8r"
      },
      "source": [
        "SELECT count(*)\n",
        "FROM dst_project.airports a\n",
        "JOIN dst_project.flights f ON a.airport_code = f.departure_airport\n",
        "WHERE a.city = 'Anapa'\n",
        "  AND date_part('year', actual_departure) = 2017\n",
        "  AND date_part('month', actual_departure) in (1,\n",
        "                                               2,\n",
        "                                               12)\n",
        "  \n",
        "# 127"
      ],
      "execution_count": null,
      "outputs": []
    },
    {
      "cell_type": "markdown",
      "metadata": {
        "id": "HkXJaQCQzTqL"
      },
      "source": [
        "Вопрос 3. Посчитайте количество отмененных рейсов из Анапы за все время."
      ]
    },
    {
      "cell_type": "code",
      "metadata": {
        "id": "3bpVvJ7YzUEi"
      },
      "source": [
        "SELECT count(*)\n",
        "FROM dst_project.airports a\n",
        "JOIN dst_project.flights f ON a.airport_code = f.departure_airport\n",
        "WHERE a.city = 'Anapa'\n",
        "  AND f.status = 'Cancelled'\n",
        "\n",
        "# 1"
      ],
      "execution_count": null,
      "outputs": []
    },
    {
      "cell_type": "markdown",
      "metadata": {
        "id": "W2dEQ2CrzfBA"
      },
      "source": [
        "Вопрос 4. Сколько рейсов из Анапы не летают в Москву?"
      ]
    },
    {
      "cell_type": "code",
      "metadata": {
        "id": "ErSq4ZwTzfsM"
      },
      "source": [
        "SELECT count(flight_id)\n",
        "FROM dst_project.flights f\n",
        "JOIN dst_project.airports a ON a.airport_code = f.departure_airport\n",
        "JOIN dst_project.airports ap ON ap.airport_code = f.arrival_airport\n",
        "WHERE a.city = 'Anapa'\n",
        "  AND ap.city != 'Moscow'\n",
        "\n",
        "# 453"
      ],
      "execution_count": null,
      "outputs": []
    },
    {
      "cell_type": "markdown",
      "metadata": {
        "id": "iTvhwDbGzot7"
      },
      "source": [
        "Вопрос 5. Какая модель самолета летящего на рейсах из Анапы имеет больше всего мест?"
      ]
    },
    {
      "cell_type": "code",
      "metadata": {
        "id": "DYt0Hxfe0AOS"
      },
      "source": [
        "WITH flight_seets AS\n",
        "  (SELECT f.flight_id,\n",
        "          ac.model,\n",
        "          count(*) total\n",
        "   FROM dst_project.flights f\n",
        "   JOIN dst_project.airports ap ON ap.airport_code = f.departure_airport\n",
        "   JOIN dst_project.aircrafts ac ON ac.aircraft_code = f.aircraft_code\n",
        "   JOIN dst_project.seats s ON s.aircraft_code = f.aircraft_code\n",
        "   WHERE ap.city = 'Anapa'\n",
        "   GROUP BY f.flight_id,\n",
        "            ac.model)\n",
        "SELECT DISTINCT model,\n",
        "                total\n",
        "FROM flight_seets\n",
        "ORDER BY total DESC\n",
        "LIMIT 1\n",
        "\n",
        "# Boeing 737-300"
      ],
      "execution_count": null,
      "outputs": []
    }
  ]
}